{
  "nbformat": 4,
  "nbformat_minor": 0,
  "metadata": {
    "kernelspec": {
      "display_name": "Python 3",
      "language": "python",
      "name": "python3"
    },
    "language_info": {
      "codemirror_mode": {
        "name": "ipython",
        "version": 3
      },
      "file_extension": ".py",
      "mimetype": "text/x-python",
      "name": "python",
      "nbconvert_exporter": "python",
      "pygments_lexer": "ipython3",
      "version": "3.6.10"
    },
    "colab": {
      "name": "DS3000_FP4_Section1_Group19.ipynb",
      "provenance": [],
      "collapsed_sections": [],
      "toc_visible": true
    }
  },
  "cells": [
    {
      "cell_type": "markdown",
      "metadata": {
        "id": "Xj7fAzXiCpY1",
        "colab_type": "text"
      },
      "source": [
        "<center> <h2> DS 3000 - Spring 2020</h2> </center>\n",
        "<center> <h3> DS Report </h3> </center>\n"
      ]
    },
    {
      "cell_type": "markdown",
      "metadata": {
        "id": "z6sNisrmCpY3",
        "colab_type": "text"
      },
      "source": [
        "<center> <h1>Identifying Visual Stimuli from fMRI Data</h1> </center>\n",
        "<center><h4>Gweneth Andersen, Robert Passas, Sarel Kohen</h4></center>\n"
      ]
    },
    {
      "cell_type": "markdown",
      "metadata": {
        "id": "v2yq7AdZCpY5",
        "colab_type": "text"
      },
      "source": [
        "<hr style=\"height:2px; border:none; color:black; background-color:black;\">"
      ]
    },
    {
      "cell_type": "markdown",
      "metadata": {
        "id": "NEZHuZodCpY6",
        "colab_type": "text"
      },
      "source": [
        "#### Executive Summary\n",
        "\n",
        "In this report, we use a human brain fMRI dataset collected by Schapiro et al. to examine the neurophysiological basis of event representation. The dataset includes images recorded during a behavioral task where subjects were shown a sequence of appearing and disappearing stimuli traversing a Hamiltonian path on a hidden graph structure which contained three densely connected communities. Participants were also told to indicate whether or not these graphical stimuli had been rotated as a cover task for the experiment. The researchers found that patterns of activity in certain brain regions (left IFG, left insula, left ATL, and left STG) represented stimuli within a common community more similarly to each other than to stimuli in other communities. Upon learning this, we wondered whether it might be possible to use machine learning techniques to classify these patterns by the region of visual space where the stimuli causing them appeared using the brain scans. Our main goal in this investigation was to construct a model capable of identifying which communities new stimuli belong to and whether they have transitioned between or within communities as they occur in the fMRI time series. As a first step, we looked simply to see if we could find differences between brain scans of those viewing intra-community transitions versus inter-community transitions. This analysis proved successful, showing that participants, at least on a subconscious level, were registering that stimuli were leaving or staying within their hidden communities. We next sought to prepare our data and predictive models to show that informative brain regions could be used to predict qualities of the stimuli. In order to apply learning algorithms to build such a model, we computed mask images for each subject's set of time series to cut the 139,264-voxel volumes down to more manageable sets of about 39,000 voxels. After labeling the volumes most nearly following each stimulus onset time with two target variables (the community to which each stimulus belonged and whether or not that community differed from the community of the previous stimulus), we tested our hypotheses with several classification algorithms. We found that certain support vector machine and ridge classifiers were able to classify stimulus transitions with as high as 88.0427% accuracy, and that SVM classifiers trained to identify community membership could do so with as high as 69.125% accuracy. Though we also mused that performance on the cover task might be a predictor of these accuracies, we found no significant correlation.\n",
        "\n",
        "\n",
        "Schapiro, A., Rogers, T., Cordova, N. et al. Neural representations of events arise from temporal community structure. Nat Neurosci 16, 486–492 (2013). https://doi.org/10.1038/nn.3331"
      ]
    },
    {
      "cell_type": "markdown",
      "metadata": {
        "id": "tmjtUFccSlk3",
        "colab_type": "text"
      },
      "source": [
        "![alt text](https://media.springernature.com/full/springer-static/image/art%3A10.1038%2Fnn.3331/MediaObjects/41593_2013_Article_BFnn3331_Fig1_HTML.jpg?as=webp)\n",
        "\n",
        "Figure 1: (a) Network diagram of the positions where the stimuli could appear. (b), (c) The symbols used for the stimuli in different experiments. (Schapiro et al. 2013)"
      ]
    },
    {
      "cell_type": "markdown",
      "metadata": {
        "id": "TQG2GAFECpY7",
        "colab_type": "text"
      },
      "source": [
        "<hr style=\"height:2px; border:none; color:black; background-color:black;\">"
      ]
    },
    {
      "cell_type": "markdown",
      "metadata": {
        "id": "tsihKhezCpY9",
        "colab_type": "text"
      },
      "source": [
        "## Outline\n",
        "1. <a href='#1'>INTRODUCTION</a>\n",
        "2. <a href='#2'>METHOD</a>\n",
        "3. <a href='#3'>RESULTS</a>\n",
        "4. <a href='#4'>DISCUSSION</a>"
      ]
    },
    {
      "cell_type": "markdown",
      "metadata": {
        "id": "_EabB3qzCpY_",
        "colab_type": "text"
      },
      "source": [
        "<a id=\"1\"></a>\n",
        "<hr style=\"height:2px; border:none; color:black; background-color:black;\">"
      ]
    },
    {
      "cell_type": "markdown",
      "metadata": {
        "id": "7eezJfh4CpZA",
        "colab_type": "text"
      },
      "source": [
        "## 1. INTRODUCTION"
      ]
    },
    {
      "cell_type": "markdown",
      "metadata": {
        "id": "G8X7SG8GCpZB",
        "colab_type": "text"
      },
      "source": [
        "\n",
        "\n",
        "<h3>Problem Statement</h3> \n",
        "\n",
        "Major advancements have been made in diagnostic medicine as computer vision techniques have been applied to the wealth of neuroimaging data available to clinical scientists in recent years. For example, pattern recognition systems are beginning to automate the detection of pathological states associated with major physiological changes to the most common basis of contrast in magnetic resonance imaging, the BOLD signal. Now that numerous image processing and machine learning utilities compatible with medical imaging formats are becoming widespread, it falls to practicioners of exploratory data analysis with backgrounds in neuroscience to discover the new limits of diagnosis enabled by them. We intend to explore the Schapiro et al. event representations dataset (2013) hoping to find ways of supporting the diagnosis of perceptual abnormalities by relating the accuracy with which human subjects identify visual stimuli to the classifiability of details of those stimuli by machine learning models trained on fMRI recordings of their brains.\n",
        "\n",
        "<h3>Significance of the Problem</h3>\n",
        "\n",
        "If we find that machine learning models trained to classify visual stimuli from their neural correlates in fMRI time series perform better for subjects with higher accuracies on a behavioral task related to the perception of the stimuli, then we may be able to support a more general hypothesis that the quality of neuroimaging data for diagnosis of behavioral conditions is coordinated by the coherence of neural representations of events in related behavioral tasks. This would be an insight of major importance to the diagnostic imaging of patients who experience drastic perceptual abnormalities, such as hallucinations, as it would mean that tailoring behavioral tasks to \"make sense\" in the context in which those patients perceive reality might actually improve the ability of automated systems to discern the cause of their symptoms.\n",
        "\n",
        "<h3>Questions/Hypotheses</h3>\n",
        "\n",
        "* __H1:__ Signal patterns corresponding to stimulus transitions 'within' visual communities will be more similar to each other compared to those corresponding to transitions 'between' communities.\n",
        "* __H2:__ Because community shifts in visual cues generate unique brain signals, these biological signals can be used to predict transitions between communities in real-world visual cue systems.\n",
        "* __H3:__ Activation patterns can be used to predict community membership of visual cues.\n",
        "* __H4:__ Subjects with better accuracy on the behavioral task had more easily classifiable fMRI data.\n",
        "\n",
        "</br>\n",
        "<h3>ROI's</h3> \n",
        "\n",
        "While our investigation does not focus on anatomical mapping or structural analysis, it is important to remember that the areas used to predict stimuli are grounded in discrete, yet interconnected functions. Below are some key regions mentioned by Schapiro et al. as regions of interest and their functions as they relate to the experimental paradigm.\n",
        "\n",
        "__(Left) Inferior Frontal Gyrus__ </br>\n",
        "The IFG is generally responsible for semantic functions, especially related to audition. It prominently contains Broca’s area, which is responsible for coherent speech production. Part of coherent speech, and other auditory stimuli, is repetition and sequence processing, much like how sequences are followed in the experiment. Previous research has linked its function specifically to grammar<sup>1</sup>, language<sup>2</sup>, and music<sup>3</sup>, which require an ability to process non-random sequences. Its role in sequential and semantic classification<sup>4</sup> of stimuli may implicate it in the classification of visual community membership over time in the experiment. \n",
        "\n",
        "__Insula__ </br>\n",
        "Located deep in the brain, the insula is associated with a plethora of functions, such as self-awareness (including social emotion and interoception) and multisensory processing. Specifically it has been implicated in binding of multisensory inputs and asynchrony detection<sup>5</sup>. While the current study used unimodal stimuli, as the stimuli remained in communities over time, signals in the insula strengthened over time, suggesting a possible detection of ‘synchrony’ of stimuli belonging in their respective communities. \n",
        "\n",
        "\n",
        "__(left) Anterior Temporal Lobe__ </br>\n",
        "Running from the temples (hence the name) toward the back of the brain, the temporal lobe is one of the endpoints of the visual stream where visual information is no longer retinotopic, but is processed into increasingly complex units as it is carried toward the temples from occipital visual brain regions. This complexification is what integrates the images of an exhaust pipe, mirrors, wheels, etc. into something perceived as a whole car rather than just a collection of parts. The temporal lobe may play a similar role in mapping together the locations of stimuli into communities in the experimental paradigm. Various parts of the temporal lobe have been implicated in tasks related to perception of complex visual structures such as face and scene perception<sup>6</sup>. \n",
        "\n",
        "\n",
        "__(left) Superior Temporal Gyrus__ </br>\n",
        "Sitting atop the temporal lobe, the STG has been implicated in semantic/language processing<sup>7</sup>,  and most notably, visual search tasks<sup>8</sup>. These findings corroborate the contention that the STG plays a role in the neural representation and tracing of experimental stimuli.\n",
        "\n",
        "\n",
        "__Medial Prefrontal Cortex__ </br>\n",
        "The mPFC was experimentally observed by Schapiro et al. to be most active for the duration of within-community transitions, decreasing its activity when stimuli moved to new communities. This is likely due to the mPFC’s role in contextualized activity<sup>9</sup>, chunking events into familiar and non-random units<sup>10</sup>. These cues enable the mPFC to play key roles in planning and decision-making. \n",
        "\n",
        "</br>\n",
        "\n",
        "<sup>1. Petersson, K.M., Forkstam, C. & Ingvar, M. Artificial syntactic violations activate Broca's region. Cogn. Sci. 28, 383–407 (2004).</sup>\n",
        "\n",
        "<sub>2. Bornkessel, I., Zysset, S., Friederici, A.D., von Cramon, D.Y. & Schlesewsky, M. Who did what to whom? The neural basis of argument hierarchies during language comprehension. Neuroimage 26, 221–233 (2005).</sub>\n",
        "\n",
        "<sup>3. Gelfand, J.R. & Bookheimer, S.Y. Dissociating neural mechanisms of temporal sequencing and processing phonemes. Neuron 38, 831–842 (2003).</sup>\n",
        "\n",
        "<sup>4. Vandenberghe, R., Price, C., Wise, R., Josephs, O. & Frackowiak, R.S. Functional anatomy of a common semantic system for words and pictures. Nature 383, 254–256 (1996).</sup>\n",
        "\n",
        "<sup>5. Bushara, K. O., Grafman, J., & Hallett, M. (2001). Neural correlates of auditory-visual stimulus onset asynchrony detection. The Journal of neuroscience : the official journal of the Society for Neuroscience, 21(1), 300–304.</sup> \n",
        "\n",
        "<sup>6. Kawabata, H., & Zeki, S. (2004). Neural correlates of beauty. Journal of neurophysiology, 91(4), 1699-1705.</sup>\n",
        " \n",
        "<sup>7. Ueno, T., Saito, S., Rogers, T.T. & Lambon Ralph, M.A. Lichtheim 2: synthesizing aphasia and the neural basis of language in a neurocomputational model of the dual dorsal-ventral language pathways. Neuron 72, 385–396 (2011).</sup>\n",
        "\n",
        "<sup>8. Gharabaghi, A., Berger, M. F., Tatagiba, M., & Karnath, H. O. (2006). The role of the right superior temporal gyrus in visual search—insights from intraoperative electrical stimulation. Neuropsychologia, 44(12), 2578-2581.</sup>\n",
        "\n",
        "<sup>9. Bar, M., Aminoff, E., Mason, M. & Fenske, M. The units of thought. Hippocampus 17, 420–428 (2007).</sup>\n",
        "\n",
        "<sup>10. Koechlin, E., Corrado, G., Pietrini, P. & Grafman, J. Dissociating the role of the medial and lateral anterior prefrontal cortex in human planning. Proc. Natl. Acad. Sci. USA 97, 7651–7656 (2000).</sup>\n"
      ]
    },
    {
      "cell_type": "markdown",
      "metadata": {
        "id": "XrFiUUlfCpZC",
        "colab_type": "text"
      },
      "source": [
        "<a id=\"2\"></a>\n",
        "<hr style=\"height:2px; border:none; color:black; background-color:black;\">"
      ]
    },
    {
      "cell_type": "markdown",
      "metadata": {
        "id": "2ujRgl05CpZD",
        "colab_type": "text"
      },
      "source": [
        "## 2. METHOD"
      ]
    },
    {
      "cell_type": "markdown",
      "metadata": {
        "id": "5m-QQZOlCpZE",
        "colab_type": "text"
      },
      "source": [
        "### 2.1. Data Acquisition\n"
      ]
    },
    {
      "cell_type": "markdown",
      "metadata": {
        "id": "7OGlaUTNaVnq",
        "colab_type": "text"
      },
      "source": [
        "We obtained our data in the form of NIfTI (.nii.gz) and TSV files from OpenNeuro. The data correspond to the third fMRI experiment conducted by Schapiro, A.C., Rogers, T.T., Cordova, N.I., Turk-Browne, N.B., & Botvinick, M.M. in their 2013 paper entitled _Neural representations of events arise from temporal community structure_ in **Nature Neuroscience**.\n",
        "\n",
        "* Link to OpenNeuro data source: `https://openneuro.org/datasets/ds001621/versions/1.1.0`\n",
        "* Link to Nature Neuroscience article: `https://www.nature.com/articles/nn.3331`\n",
        "\n",
        "For this project, we have stored the data in a public Google Drive folder. In order for our code to work as intended we ask you to follow these steps:\n",
        "\n",
        "\n",
        "1. Go to the link: `https://drive.google.com/drive/folders/1YrBDIC1rmo3B_G0921amfNq3ZhX9ZoT4?usp=sharing`\n",
        "2. Right-click on `DS3000 - Dataset`, and press **\"Add to My Drive\"**\n",
        "  - This action will place the folder in the base directory of your Google Drive.\n",
        "3. In a later cell you will be asked to authorize your Google Drive directory; please follow the steps to obtain access to the files.\n",
        "\n",
        "Our dataset contains data collected from 20 subjects, each with 1 anatomical MRI scan, 5 functional MRI scans, and 5 corresponding behavioral files with 7 descriptive columns and 160 stimulus items (rows) per run. For each instance, there is an associated item that belongs to one of 15 positions distributed evenly among 3 densely connected communities on the graph in Figure 1a. Each item can be labeled with a boolean flag indicating whether or not it marks a transition to a new community relative to the previous item.\n",
        "\n",
        "Each fMRI scan is a .nii.gz file that encodes a 4D image (many 3D images arranged in a time series). Most of these files consist of approximately 300 scans taken in 2 second intervals over the course of five minutes. Within each scan, there are 139,264 voxels (64 x 64 x 34). The volume of each voxel can be obtained from the header of a Nibabel image object representing the file, which reports a value of about 3 cubic millimeters. \n",
        "\n",
        "Variables in the TSV files include:\n",
        "* onset: Onset time in seconds relative to beginning of run\n",
        "* duration: Duration of stimulus (always 1 second)\n",
        "* item: Identifier for the graph node of the presented stimulus. The three graph communities are labeled A, B, and C, with nodes from the same community labeled A1, A2, etc. Boundary nodes have 1’s and 5’s.\n",
        "* rotation: Rotation from usual orientation (usually 0°, occasionally 90°)\n",
        "* accuracy: Whether the participant correctly reported the item as rotated from its usual orientation or not (n/a if no response)\n",
        "* reaction_time: Time between stimulus onset and response in seconds (n/a if no response)\n",
        "\n",
        "Of these variables, the key variables for our project are _onset_, _item_, _reaction_time_, and _accuracy_."
      ]
    },
    {
      "cell_type": "code",
      "metadata": {
        "id": "bZVGcNg9ccTW",
        "colab_type": "code",
        "outputId": "b7c0aee7-3747-493e-81ef-6f8bec16fed5",
        "colab": {
          "base_uri": "https://localhost:8080/",
          "height": 124
        }
      },
      "source": [
        "from google.colab import drive\n",
        "drive.mount('/content/drive')"
      ],
      "execution_count": 0,
      "outputs": [
        {
          "output_type": "stream",
          "text": [
            "Go to this URL in a browser: https://accounts.google.com/o/oauth2/auth?client_id=947318989803-6bn6qk8qdgf4n4g3pfee6491hc0brc4i.apps.googleusercontent.com&redirect_uri=urn%3aietf%3awg%3aoauth%3a2.0%3aoob&response_type=code&scope=email%20https%3a%2f%2fwww.googleapis.com%2fauth%2fdocs.test%20https%3a%2f%2fwww.googleapis.com%2fauth%2fdrive%20https%3a%2f%2fwww.googleapis.com%2fauth%2fdrive.photos.readonly%20https%3a%2f%2fwww.googleapis.com%2fauth%2fpeopleapi.readonly\n",
            "\n",
            "Enter your authorization code:\n",
            "··········\n",
            "Mounted at /content/drive\n"
          ],
          "name": "stdout"
        }
      ]
    },
    {
      "cell_type": "markdown",
      "metadata": {
        "id": "vl6FkGu1CpZF",
        "colab_type": "text"
      },
      "source": [
        "### 2.2. Variables\n",
        "\n"
      ]
    },
    {
      "cell_type": "markdown",
      "metadata": {
        "id": "WaAd4wWVioDS",
        "colab_type": "text"
      },
      "source": [
        "<h4><u> IVs and DVs for Hypotheses</u></h4>\n",
        "\n",
        "(1) Signal patterns corresponding to stimulus transitions 'within' visual communities will be more similar to each other compared to those corresponding to transitions 'between' communities.\n",
        "* IVs: Transition case ('within' or 'between' visual communities)\n",
        "* DVs: Activation Level of Voxels in fMRI Scan\n",
        "\n",
        "(2) Because community shifts in visual cues generate unique brain signals, these biological signals can be used to predict transitions between communities in real-world visual cue systems.\n",
        "* IVs: Voxels from fMRI Scan (represents signal strength)\n",
        "* DVs: Transition case ('within' or 'between' visual communities)\n",
        "\n",
        "(3) Activation patterns can be used to predict community membership of visual cues (one of three communities).\n",
        "* IVs: Voxels from fMRI Scan (represents signal strength)\n",
        "* DVs: Community Membership (A, B or C)\n",
        "\n",
        "(4) Subjects with better accuracy on the behavioral task had more easily classifiable fMRI data  than subjects with poorer task performance.\n",
        "* IVs: Accuracy in Behavioral Task\n",
        "* DVs: Classification Accuracy\n",
        "\n",
        "<h4> <u>Features and Target Variables for Predictive Models</u> </h4>\n",
        "\n",
        "For our predictive models related to H2, our target variable will be a string flag indicating whether the stimuli transitions were 'within' or 'between' communities. We will be extracting this variable from the behavioral files by comparing the stimuli community transitions. For our predictive models related to H3, our target variable will be each item's community (A, B, or C). The features for both these predictive models will be the voxels in the fMRI scans that represent the local BOLD (Blood Oxygen Level Dependent) signal strength, which is correlated to neural activity in the given area."
      ]
    },
    {
      "cell_type": "markdown",
      "metadata": {
        "id": "z3M_gspOCpZG",
        "colab_type": "text"
      },
      "source": [
        "### 2.3. Data Analysis\n",
        "\n",
        "To accommodate our multiple hypotheses and the sheer volume of our data flexibly, we decided to use class-based designs for processing, analysis, and optimization. All algorithms used for analysis are supervised. For our first hypothesis, a general linear model adapted for fMRI data was used to obtain p values for voxels when comparing the transition types viewed by participants (within and between community transitions). SVM then weights these voxels as predictors of conditions. This is simply to show that there is a difference between scans depending on the two fundamental conditions. \n",
        "Hypothesis two deals with the same two conditions related to transitions of stimuli, but runs several classification models to determine which type can predict the details of transitions most accurately from the images. Data were preprocessed for this hypothesis in a similar way to the previous one in that the models are performing a binary classification to distinguish between 'within' and 'between' conditions. Models used include linearSVC, SVC, logisitic regressions with L1 and L2 regularizations, ridge, and Gaussian Naive Bayes classifiers. Hypothesis three uses the same classifiers, but classifies the selected scans ternarily by community (A, B, or C) instead of binarily by transition. Hypothesis four compares the results of hypotheses two and three to another variable derived from the behavioral data, the accuracy with which each subject was able to identify when stimuli had been rotated."
      ]
    },
    {
      "cell_type": "markdown",
      "metadata": {
        "id": "n-P-xl10CpZH",
        "colab_type": "text"
      },
      "source": [
        "<a id=\"3\"></a>\n",
        "<hr style=\"height:2px; border:none; color:black; background-color:black;\">"
      ]
    },
    {
      "cell_type": "markdown",
      "metadata": {
        "id": "O1ZH3dIXCpZI",
        "colab_type": "text"
      },
      "source": [
        "## 3. RESULTS"
      ]
    },
    {
      "cell_type": "markdown",
      "metadata": {
        "id": "OlL929PUCpZK",
        "colab_type": "text"
      },
      "source": [
        "### 3.1. Data Wrangling\n"
      ]
    },
    {
      "cell_type": "markdown",
      "metadata": {
        "id": "mkkAVCajw7aL",
        "colab_type": "text"
      },
      "source": [
        "At first, we were prompted to store our data in CSV format, so we wrote the following script to convert NIfTI files to CSV files. It begins by loading the data from a raw NIfTI file into a 4D Nibabel image object, which can be indexed easily to select voxels; then, it transfers all of the activation values representing voxels into a massive 2D list by iterating through each volume in the time series, each slice in those volumes, each row in those 34 slices, and each voxel in those 64 rows. To compactify the 4D image into a 2D list, all of the rows in each slice are stored in a single 1D sequence, then each slice is added to a DataFrame as a row for the respective volume. Finally, all of the DataFrames representing volumes in the time series are concatenated into a single DataFrame which is saved in CSV format by the .to_csv method. This process was extremely computationally expensive and resulted in files that were very clunky to \"unzip\" by indexing; moreover, we found that the files it produced were on average more than 420% of the size of the raw NIfTI files. Taking into consideration how many voxelwise operations we had yet to perform on the data, we ultimately chose to skip this intermediate processing stage and use a Nilearn masking method to more efficiently access the contents of NIfTI files instead."
      ]
    },
    {
      "cell_type": "code",
      "metadata": {
        "id": "ONE7wVKzI8Bm",
        "colab_type": "code",
        "colab": {}
      },
      "source": [
        "%%capture\n",
        "!pip install nilearn\n",
        "!pip install nistats"
      ],
      "execution_count": 0,
      "outputs": []
    },
    {
      "cell_type": "code",
      "metadata": {
        "id": "q7RpX30JIFvG",
        "colab_type": "code",
        "colab": {}
      },
      "source": [
        "import os\n",
        "import nibabel as nib\n",
        "import nilearn\n",
        "import time\n",
        "import pandas as pd\n",
        "import warnings\n",
        "warnings.filterwarnings('ignore')"
      ],
      "execution_count": 0,
      "outputs": []
    },
    {
      "cell_type": "code",
      "metadata": {
        "id": "Wn-mbjF9bXRg",
        "colab_type": "code",
        "colab": {}
      },
      "source": [
        "# NIfTI -> CSV Converter\n",
        "\n",
        "# expands file size by a factor of 4.242\n",
        "\n",
        "# Scans directory should contain only .nii.gz files\n",
        "for file in os.listdir(\"./Scans\"):\n",
        "    if file.split(\".\")[1] == \"nii\" and not os.path.exists(file.split(\".\")[0] + \".csv\"):\n",
        "        img = nib.load('./Scans/' + file)\n",
        "        data = img.get_fdata()\n",
        "        print(\"opened \" + file)\n",
        "        # start timer\n",
        "        start_time = time.time()\n",
        "        # collect all time frames into a list of DataFrames\n",
        "        time_series = []\n",
        "        # iterate through times\n",
        "        for t_cube in range(data.shape[3]):\n",
        "            # collect all 139,264 voxels in the cube into a 2D array\n",
        "            cube_voxels = []\n",
        "            # iterate through all 34 cross-sections of the cube\n",
        "            for z_slice in range(data.shape[2]):\n",
        "                # collect all 4,096 voxels in the cross-section into a 1D array\n",
        "                slice_voxels = []\n",
        "                # iterate through all 64 lines in the cross-section\n",
        "                for y_line in range(data.shape[1]):\n",
        "                    # append all 64 voxels in the line to the collection\n",
        "                    for x_voxel in range(data.shape[0]):\n",
        "                        slice_voxels.append(data[x_voxel, y_line, z_slice, t_cube])\n",
        "                cube_voxels.append(slice_voxels)\n",
        "            # convert the 2D array to a DataFrame\n",
        "            time_series.append(pd.DataFrame(cube_voxels))\n",
        "        # concatenate the time series into a single DataFrame\n",
        "        df = pd.concat(time_series)\n",
        "        # save the whole time series DataFrame as a csv file\n",
        "        df.to_csv(file.split(\".\")[0] + \".csv\")\n",
        "        execution_time = time.time() - start_time\n",
        "        print(\"converted \" + file + \" in \" + str(execution_time) + \" seconds\")\n",
        "    else:\n",
        "        pass\n",
        "print(\"done\")"
      ],
      "execution_count": 0,
      "outputs": []
    },
    {
      "cell_type": "markdown",
      "metadata": {
        "id": "6f06z5oy1_Ei",
        "colab_type": "text"
      },
      "source": [
        "We found that the most efficient approach to handling our many thousands of features involved cutting them down with Nilearn's masking utilities. Since we sought to classify our data by both community membership and transition type and to take note of other information like subject accuracy and offset times between reactions and scans, we found it useful to implement a versatile class-based design.\n",
        "\n",
        "The SubjectData class obtains the imaging and behavioral data for a particular subject and combines relevant information into a single DataFrame. First, it collects all the NIfTI and TSV filepaths into lists and ensures that they are in a one-to-one ratio. Then, instead of reading and writing all 139,264 voxels for each volume in each NIfTI file, we computed and applied a common EPI mask across all of the subject's runs. Depending on the subject, this reduced the number of selected voxels down to about 31,000 by removing voxels that the mask interpreted as empty space or cranial matter.\n",
        "\n",
        "Next, a DataFrame is prepared using the masked data, and target columns for the community membership and transition type labels—as well as a supplementary column for offset times between reactions and scans—are added to it with preliminary NaN values for each volume. These columns are populated as the initializer iterates through DataFrames adapted from the behavioral TSV files which contain the onset time and positional label of each item, the subject's accuracy on the behavioral task for that item, and the time it took the subject to react to it. Other features in the TSV files, such as the duration of the item on the screen (a constant 1 second for all items), a flag indicating whether or not the item had been rotated, and the jpg representing the item's pattern (see all patterns used in this experiment in Figure 1c), were judged to be of negligible value to our investigation.\n",
        "\n",
        "The relevant scan indices used to filter the masked data were computed relative to the moment of reaction wherever possible, but sometimes subjects did not perform the behavioral task, so we used a try/except statement to disregard the NaN reaction time values when they appeared. Because scans were taken every 2 seconds, and all of a subject's runs inhabited the same DataFrame to be indexed, we computed the indices by halving the nearest even number of seconds higher than the total time that had transpired from the beginning of the first run to the time of a subject's reaction to (or simply the onset of) each item. The difference between these times was taken to be the offset time. Then, the transition associated with each new item was labeled as 'within' or 'between' depending on whether the previous item had transitioned to one 'within' the same community or 'between' its community and a new one. The first item shown in each run was considered to be a 'between' transition as it could be seen as having transitioned from \"the empty community\" to one of the three communities with members.\n",
        "\n",
        "Since only the scans most nearly following the onset of new items can be labeled, the remaining rows with NaN values in the 'offset', 'item', and 'transition' columns are removed using the .dropna method. These scans could provide valuable information to a more sophisticated analysis (enabled by greater computing power) considering the subjects' gradual adjustment to new communities over time, so we invite readers interested in expanding this study to modify our code to include them. Features and targets were extracted from the overall dataset contained within the SubjectData object later when a Classifier object was fit to it.\n"
      ]
    },
    {
      "cell_type": "code",
      "metadata": {
        "id": "ztm6y9OOHyEz",
        "colab_type": "code",
        "colab": {}
      },
      "source": [
        "# stores the masked voxel data, onset times, offsets between reaction times and scan times,\n",
        "# item labels, and transition types for a given subject\n",
        "class SubjectData(object):\n",
        "\n",
        "    def __init__(self, subject_number):\n",
        "        self.subject_number = subject_number\n",
        "\n",
        "        fp = \"/content/drive/My Drive/DS3000 - Dataset/\"\n",
        "\n",
        "        import os\n",
        "         # collect appropriate NIfTI files from directory with all 100 NIfTI files in alphanumeric order\n",
        "        self.nifti_files = [fp + \"Scans/\" + sorted(os.listdir(fp + \"Scans\"))[i] for i in range(5*(subject_number - 1), 5*subject_number)]\n",
        "        # collect TSV files from subject directory\n",
        "        self.tsv_files = [fp + \"sub-\" + str(subject_number) + \"/behavioral/\" +\n",
        "                          file for file in os.listdir(fp + \"sub-\" + str(subject_number) + \"/behavioral\") if file.split(\".\")[1] == \"tsv\"]\n",
        "        if len(self.nifti_files) != len(self.tsv_files): raise IndexError(\"Missing files.\")\n",
        "\n",
        "        from nilearn.masking import compute_multi_epi_mask, apply_mask\n",
        "        # compute a mask to use across all of this subject's runs\n",
        "        common_mask = compute_multi_epi_mask(self.nifti_files)\n",
        "        masked_data = apply_mask(self.nifti_files, common_mask)\n",
        "        \n",
        "        import pandas as pd\n",
        "        import numpy as np\n",
        "        # prepare DataFrame and add target columns\n",
        "        self.data = pd.DataFrame(masked_data)\n",
        "        self.data['onset'] = np.nan\n",
        "        self.data['offset'] = np.nan\n",
        "        self.data['item'] = np.nan\n",
        "        self.data['transition'] = np.nan\n",
        "        \n",
        "        import nibabel as nib\n",
        "        import math\n",
        "        total_scans = 0\n",
        "        total_accuracy = 0\n",
        "        number_of_items = 0\n",
        "        for i in range(len(self.tsv_files)):\n",
        "            tsv = pd.read_csv(self.tsv_files[i], sep='\\t', usecols=['onset', 'item', 'accuracy', 'reaction_time'])\n",
        "            total_accuracy += tsv['accuracy'].sum()\n",
        "            number_of_items += tsv.shape[0]\n",
        "            max_index = nib.load(self.nifti_files[i]).shape[3]\n",
        "            for index, row in tsv.iterrows():\n",
        "                # if subject does not react to item, just compute scantime index and offset time relative to onset time\n",
        "                activation_time = row['onset'] + row['reaction_time']\n",
        "                try:\n",
        "                    next_scantime_index = total_scans + ((math.ceil(activation_time) + (math.ceil(activation_time) % 2)) / 2)\n",
        "                except ValueError:\n",
        "                    activation_time = row['onset']\n",
        "                    next_scantime_index = total_scans + ((math.ceil(activation_time) + (math.ceil(activation_time) % 2)) / 2)                    \n",
        "                offset_time = 2 * (next_scantime_index - total_scans) - activation_time\n",
        "                if next_scantime_index <= max_index:\n",
        "                    self.data.at[next_scantime_index, 'offset'] = offset_time\n",
        "                    self.data.at[next_scantime_index, 'item'] = row['item']\n",
        "                    self.data.at[next_scantime_index, 'onset'] = row['onset']\n",
        "                    # transitions are 'between' if a new community is entered\n",
        "                    if index == 0 or list(row['item'])[0] != list(tsv.at[index - 1, 'item'])[0]:\n",
        "                        self.data.at[next_scantime_index, 'transition'] = 'between'\n",
        "                    else:\n",
        "                        # transitions are 'within' if they stay in the same community as the previous item\n",
        "                        self.data.at[next_scantime_index, 'transition'] = 'within'\n",
        "                else:\n",
        "                    # to work around the scans that for some reason only have a couple of images instead of 300 something\n",
        "                    continue\n",
        "            total_scans += max_index\n",
        "        self.subject_accuracy = total_accuracy / number_of_items\n",
        "        self.data = self.data.dropna()"
      ],
      "execution_count": 0,
      "outputs": []
    },
    {
      "cell_type": "code",
      "metadata": {
        "id": "x9ZkUW4yITPo",
        "colab_type": "code",
        "colab": {}
      },
      "source": [
        "sub1 = SubjectData(subject_number=1)"
      ],
      "execution_count": 0,
      "outputs": []
    },
    {
      "cell_type": "code",
      "metadata": {
        "id": "8_NFajG0YSUa",
        "colab_type": "code",
        "outputId": "c937f30e-8563-4ef3-837e-56f72c6f68a8",
        "colab": {
          "base_uri": "https://localhost:8080/",
          "height": 34
        }
      },
      "source": [
        "sub1.subject_accuracy"
      ],
      "execution_count": 0,
      "outputs": [
        {
          "output_type": "execute_result",
          "data": {
            "text/plain": [
              "0.96375"
            ]
          },
          "metadata": {
            "tags": []
          },
          "execution_count": 15
        }
      ]
    },
    {
      "cell_type": "markdown",
      "metadata": {
        "id": "tcJIeazqCpZM",
        "colab_type": "text"
      },
      "source": [
        "### 3.2. Data Exploration"
      ]
    },
    {
      "cell_type": "markdown",
      "metadata": {
        "id": "sIu6s_sA85QM",
        "colab_type": "text"
      },
      "source": [
        "Because the key behavioral variables identified in the previous section were simply used to structure the true object of our analysis, the fMRI voxels, the most meaningful way of presenting our data in the exploratory stage is in the form of contrast maps. Contrast maps are statistical overlays on brain images that highlight differential activation in various brain regions. Inspired by the general linear model (GLM) approach to constructing such maps, and guided by implementations in the Nilearn documentation, we built the class in the following code block to generate some brain visualizations using voxelwise Z scores as the basis of contrast. </br>\n",
        "Using this approach we generate a matrix, visualized below, that shows activation of differences in key voxels as the experimental condition changes. Besides the activation differences, shown on the left, the model also accounts for signal drifting over time. More importantly, the visualization of the brain scans below it shows which brain areas showed significant differences in activation between the two conditions. Because it is based on a subtractive coontrast map, there will be positive and negative values, implying that red/yellow brain areas tend to activate when visuali stimuli move between comomunities, and the blue negative values indicate regions active when visuali stimuli moved within their communities. The threshold of significance used is adjustable, but is set to 1% in the visualization. Taken together, these early results not only demonstrate a confirmation of hypothesis 1 (significant difference between conditions), but also give further reason to believe that such regions may help predict the behavior of the presented visual stimuli themselves. Because each individual varies, masking of data and dimension reduction will be done on a case-by-case basis for subsequent analyses. It is also worth mentioning that this model took all scans of the participant into account, while subsequent models filter brain scans to best match onset times in order to improve accuracy.  "
      ]
    },
    {
      "cell_type": "code",
      "metadata": {
        "id": "ecq3hojiu614",
        "colab_type": "code",
        "colab": {}
      },
      "source": [
        "# constructs a general linear model to examine a given subject's scans visually\n",
        "# scan_num can be 0 through 4, indicates the scan session\n",
        "class GLM(object):\n",
        "\n",
        "    def __init__(self, subject_number):\n",
        "        self.subject_number = subject_number\n",
        "        self.subject_data = SubjectData(self.subject_number)\n",
        "\n",
        "\n",
        "        import numpy as np\n",
        "\n",
        "        from nistats.first_level_model import FirstLevelModel\n",
        "        # define the parameters for the GLM\n",
        "        glm = FirstLevelModel(t_r=2, noise_model='ar1', standardize=False,\n",
        "                              hrf_model='spm', drift_model='cosine', high_pass=.01)\n",
        "        \n",
        "        from nilearn.image import load_img, mean_img\n",
        "        from functools import partial\n",
        "        # load NIfTI files into nibabel images and convert TSV files to DataFrames\n",
        "        # pandas is already loaded by SubjectData()\n",
        "        self.run_imgs = list(map(load_img, self.subject_data.nifti_files))\n",
        "        self.events = list(map(partial(pd.read_csv, sep='\\t', usecols=['onset', 'duration', 'item']),\n",
        "                               self.subject_data.tsv_files))\n",
        "        self.mean_image = mean_img(self.subject_data.nifti_files)\n",
        "        \n",
        "        # label transitions without combining TSV information into one DataFrame for compatibility\n",
        "        for tsv in self.events:\n",
        "            tsv['trial_type'] = np.nan\n",
        "            for index, row in tsv.iterrows():\n",
        "                # transitions are 'between' if a new community is entered\n",
        "                if index == 0 or list(row['item'])[0] != list(tsv.at[index - 1, 'item'])[0]:\n",
        "                    tsv.at[index, 'trial_type'] = '1'\n",
        "                else:\n",
        "                    # transitions are 'within' if they stay in the same community as the previous item\n",
        "                    tsv.at[index, 'trial_type'] = '0'\n",
        "        for tsv in self.events:\n",
        "            for i in range(len(tsv['trial_type'])):\n",
        "                # transitions are 'between' if a new community is entered\n",
        "                if tsv['trial_type'][i] == 1.0:\n",
        "                    tsv['trial_type'][i] = 'between'\n",
        "                else:\n",
        "                    # transitions are 'within' if they stay in the same community as the previous item\n",
        "                    tsv['trial_type'][i] = 'within'\n",
        "            #.replace(to_replace={1: 'between', 0: 'within'})\n",
        "        for tsv in self.events:\n",
        "            tsv = tsv.drop(['item'], axis=1, inplace=True)\n",
        "            \n",
        "        # fit the GLM\n",
        "        glm = glm.fit(self.run_imgs, self.events)\n",
        "        self.design_matrix = glm.design_matrices_[0]\n",
        "        \n",
        "        # plot the design matrix\n",
        "        from nistats.reporting import plot_design_matrix\n",
        "        plot_design_matrix(self.design_matrix)\n",
        "        import matplotlib.pyplot as plt\n",
        "        plt.show()  \n",
        "\n",
        "        # create contrasts for z-scores\n",
        "        between_col = np.zeros(len(self.design_matrix.columns))\n",
        "        between_col[0]=1\n",
        "        within_col = np.zeros(len(self.design_matrix.columns))\n",
        "        within_col[1]=1\n",
        "        \n",
        "        contrasts = [between_col - within_col]\n",
        "\n",
        "        self.z_map = glm.compute_contrast(contrasts, output_type='z_score')\n",
        "        \n",
        "    # threshold the Z score map by the false positive rate (fpr)\n",
        "    def plot_z_map(self, fpr):\n",
        "        import matplotlib.pyplot as plt\n",
        "        %matplotlib inline\n",
        "        from nistats.thresholding import map_threshold\n",
        "        # compute threshold\n",
        "        _, threshold = map_threshold(z_map, alpha=fpr, height_control='fpr')\n",
        "        plot_stat_map(self.z_map, bg_img=self.mean_image, threshold=threshold,\n",
        "                      display_mode='z', cut_coords=5, black_bg=True,\n",
        "                      title=f'Between Minus Within (p<{fpr})')\n",
        "        plt.show()"
      ],
      "execution_count": 0,
      "outputs": []
    },
    {
      "cell_type": "code",
      "metadata": {
        "id": "Xh2mxIr5DiDC",
        "colab_type": "code",
        "outputId": "26ead163-c0e3-4e14-a362-e16025c136f9",
        "colab": {
          "base_uri": "https://localhost:8080/",
          "height": 472
        }
      },
      "source": [
        "# An example subject\n",
        "\n",
        "glm16 = GLM(subject_number=16)\n",
        "glm16.plot_z_map(fpr=.01)"
      ],
      "execution_count": 0,
      "outputs": [
        {
          "output_type": "display_data",
          "data": {
            "image/png": "[encoded data removed]",
            "text/plain": [
              "<Figure size 432x288 with 1 Axes>"
            ]
          },
          "metadata": {
            "tags": [],
            "needs_background": "light"
          }
        },
        {
          "output_type": "display_data",
          "data": {
            "image/png": "[encoded data removed]",
            "text/plain": [
              "<Figure size 842.4x165.6 with 7 Axes>"
            ]
          },
          "metadata": {
            "tags": []
          }
        }
      ]
    },
    {
      "cell_type": "markdown",
      "metadata": {
        "id": "0idu0wLZCpZN",
        "colab_type": "text"
      },
      "source": [
        "### 3.3. Model Construction"
      ]
    },
    {
      "cell_type": "markdown",
      "metadata": {
        "id": "hH3QMzH1VHxz",
        "colab_type": "text"
      },
      "source": [
        "We built the Classifier class below to facilitate simultaneous model analysis, visualization, and performance reporting in a shell that could be instantiated for each subject. This object-oriented design provided referenceable organization for the results of our classifiers after they had been preprocessed and fit to chosen target variables, streamlining the preparation of data from the file system directly to the comparative analysis of model performance across all subjects that we conduct later in section 3.4. The simple clear() method is called during single-subject model evaluation to wipe the results before selecting new processing conditions. The visualize() and report() methods, which provide visual and textual comparisons of classification accuracy by model, can call fit() by themselves with the appropriate parameters so that surplus lines of code can be avoided during evaluation. The models we selected to evaluate were chosen based on their well-documented advantages for classifying large volumes of data with high numbers of features and their consequent popularity in computational neuroscience."
      ]
    },
    {
      "cell_type": "code",
      "metadata": {
        "id": "QlxraXhZKMZ0",
        "colab_type": "code",
        "colab": {}
      },
      "source": [
        "class Classifier(object):\n",
        "\n",
        "    def __init__(self, subject_number, random_state):\n",
        "        self.subject_number = subject_number\n",
        "        self.subject_data = SubjectData(self.subject_number)\n",
        "        self.random_state = random_state\n",
        "        self.classifier_results = {}\n",
        "\n",
        "        # establish the estimators upon initialization so that they can be modified during testing\n",
        "        from sklearn.svm import LinearSVC, SVC\n",
        "        from sklearn.linear_model import LogisticRegression, RidgeClassifier\n",
        "        from sklearn.naive_bayes import GaussianNB\n",
        "        \n",
        "        lin_svc = LinearSVC(max_iter=10000, dual=False)\n",
        "        svm = SVC(C=1., kernel=\"linear\")\n",
        "        log_l2 = LogisticRegression(C=1., random_state=self.random_state, solver='liblinear')\n",
        "        log_l1 = LogisticRegression(C=1., penalty='l1', random_state=self.random_state, solver='liblinear')\n",
        "        ridge = RidgeClassifier(alpha=1., solver='lsqr')\n",
        "        gnb = GaussianNB()\n",
        "\n",
        "        self.estimators = {\n",
        "            'linearSVC':lin_svc,\n",
        "            'SVC': svm,\n",
        "            'log l2': log_l2,\n",
        "            'log l1': log_l1,\n",
        "            'ridge': ridge,\n",
        "            'GNB': gnb\n",
        "        }\n",
        "\n",
        "    def drop_high_offsets(self):\n",
        "        return self.subject_data.data[self.subject_data.data['offset'] < 1]\n",
        "\n",
        "    def fit(self, target, filtered=False, PCA=False):\n",
        "        # construct feature and target sets\n",
        "        if target == 'community':\n",
        "            if filtered:\n",
        "                features = self.drop_high_offsets().drop(['offset', 'item', 'transition', 'onset'], axis=1)\n",
        "                targets = self.drop_high_offsets()['item'].map(lambda item_label: list(item_label)[0])\n",
        "            else:\n",
        "                features = self.subject_data.data.drop(['offset', 'item', 'transition', 'onset'], axis=1)\n",
        "                targets = self.subject_data.data['item'].map(lambda item_label: list(item_label)[0])\n",
        "        elif target == 'transition':\n",
        "            if filtered:\n",
        "                features = self.drop_high_offsets().drop(['offset', 'item', 'transition', 'onset'], axis=1)\n",
        "                targets = self.drop_high_offsets()['transition']\n",
        "            else:\n",
        "                features = self.subject_data.data.drop(['offset', 'item', 'transition', 'onset'], axis=1)\n",
        "                targets = self.subject_data.data['transition']\n",
        "        else:\n",
        "            raise ValueError(\"Valid target types are 'community' and 'transition'.\")\n",
        "        \n",
        "        # standardize features if using PCA\n",
        "        if PCA:            \n",
        "            from sklearn.decomposition import PCA\n",
        "            from sklearn.preprocessing import StandardScaler\n",
        "            # instantiate the PCA object and request ten components\n",
        "            pca = PCA(n_components=10, random_state=self.random_state)\n",
        "            # standardize the features so they are all on the same scale\n",
        "            features_standardized = StandardScaler().fit_transform(features.to_numpy())\n",
        "            # transform the standardized features using the PCA algorithm\n",
        "            features = pca.fit_transform(features_standardized)\n",
        "            \n",
        "        from sklearn.model_selection import KFold\n",
        "        from sklearn.model_selection import cross_val_score\n",
        "        for estimator_name, estimator_object in self.estimators.items():\n",
        "            # run each algorithm with 10-fold cross validation\n",
        "            kfold = KFold(n_splits=10, random_state=self.random_state, shuffle=True)\n",
        "            scores = cross_val_score(estimator=estimator_object, X=features, y=targets, cv=kfold)\n",
        "            # store means and standard deviations in a dictionary\n",
        "            self.classifier_results[estimator_name] = (scores.mean(), scores.std())\n",
        "\n",
        "    def clear(self):\n",
        "        # wipe the results of any prior fits\n",
        "        self.classifier_results = {}\n",
        "\n",
        "    def visualize(self, target, filtered=False, PCA=False):\n",
        "        if self.classifier_results:\n",
        "            # visual comparison of classifiers\n",
        "            %matplotlib inline\n",
        "            import matplotlib.pyplot as plt\n",
        "            from matplotlib import cm\n",
        "            from matplotlib.colors import Normalize\n",
        "            cmaper = cm.get_cmap('YlGnBu')\n",
        "            means = [mean*100 for (mean, std) in self.classifier_results.values()]\n",
        "            normer = Normalize(vmin=min(means)*0.95, vmax=max(means)*1.05)\n",
        "            plt.bar(range(len(self.classifier_results)), means, align='center', color=cmaper(normer(means)))\n",
        "            plt.xticks(range(len(self.classifier_results)), list(self.classifier_results.keys()))\n",
        "            plt.ylim(min(means)-1, max(means)+1)\n",
        "            plt.ylabel('Mean Classification Accuracy')\n",
        "            plt.xlabel('Classifier')\n",
        "            plt.title(f'{target} classification accuracy for different classifiers')\n",
        "            plt.show()\n",
        "        else:\n",
        "            self.fit(target, filtered, PCA)\n",
        "            self.visualize(target, filtered, PCA)\n",
        "    \n",
        "    def report(self, target, filtered=False, PCA=False):\n",
        "        if self.classifier_results:\n",
        "            for classifier_name, scores in self.classifier_results.items():\n",
        "                print(classifier_name + \": \\n\\t\" + f'mean accuracy={scores[0]:.2%}, ' + f'standard deviation: +/- {scores[1]:.2%}' +\"\\n\")\n",
        "        else:\n",
        "            self.fit(target, filtered, PCA)\n",
        "            self.report(target, filtered, PCA)"
      ],
      "execution_count": 0,
      "outputs": []
    },
    {
      "cell_type": "markdown",
      "metadata": {
        "id": "txI-4ATACpZO",
        "colab_type": "text"
      },
      "source": [
        "### 3.4. Model Evaluation"
      ]
    },
    {
      "cell_type": "markdown",
      "metadata": {
        "id": "rc29Y9hoqMvR",
        "colab_type": "text"
      },
      "source": [
        "The examples below visualize and report the performance of various models trained on the first subject's data to classify transitions using 10-fold cross validation. Different combinations of modeling conditions are compared. First, we examined the performance of models trained on the full unscaled content of all of the first subject's runs. In this case, the ridge classifier was the most accurate predictor of transition type."
      ]
    },
    {
      "cell_type": "code",
      "metadata": {
        "id": "FRTl5SKxP8xo",
        "colab_type": "code",
        "outputId": "72026c4c-7ed7-4008-bab1-a8698e263a07",
        "colab": {
          "base_uri": "https://localhost:8080/",
          "height": 295
        }
      },
      "source": [
        "sub1model = Classifier(subject_number=1, random_state=3000)\n",
        "sub1model.visualize(target='transition')"
      ],
      "execution_count": 0,
      "outputs": [
        {
          "output_type": "display_data",
          "data": {
            "image/png": "[encoded data removed]",
            "text/plain": [
              "<Figure size 432x288 with 1 Axes>"
            ]
          },
          "metadata": {
            "tags": [],
            "needs_background": "light"
          }
        }
      ]
    },
    {
      "cell_type": "code",
      "metadata": {
        "id": "hQiCvuXHoZWM",
        "colab_type": "code",
        "outputId": "b2aaaa22-3b88-41c8-dc2b-71abb65c4d21",
        "colab": {
          "base_uri": "https://localhost:8080/",
          "height": 329
        }
      },
      "source": [
        "sub1model.report(target='transition')"
      ],
      "execution_count": 0,
      "outputs": [
        {
          "output_type": "stream",
          "text": [
            "linearSVC: \n",
            "\tmean accuracy=82.88%, standard deviation: +/- 4.67%\n",
            "\n",
            "SVC: \n",
            "\tmean accuracy=83.50%, standard deviation: +/- 5.58%\n",
            "\n",
            "log l2: \n",
            "\tmean accuracy=83.50%, standard deviation: +/- 5.58%\n",
            "\n",
            "log l1: \n",
            "\tmean accuracy=82.92%, standard deviation: +/- 6.10%\n",
            "\n",
            "ridge: \n",
            "\tmean accuracy=84.17%, standard deviation: +/- 6.27%\n",
            "\n",
            "GNB: \n",
            "\tmean accuracy=73.29%, standard deviation: +/- 8.16%\n",
            "\n"
          ],
          "name": "stdout"
        }
      ]
    },
    {
      "cell_type": "markdown",
      "metadata": {
        "id": "rnIXeLjUrm5R",
        "colab_type": "text"
      },
      "source": [
        "Next, we found that removing from the subject's dataset the events that took place more than one second prior to the scans representing them slightly increased the mean performance of all classifiers except Gaussian Naive Bayes, though it also broadened their standard deviations by 3-8%."
      ]
    },
    {
      "cell_type": "code",
      "metadata": {
        "id": "WQIcAkwSoZZm",
        "colab_type": "code",
        "outputId": "5adcc39a-fbee-4d75-faee-a7cb6fb10495",
        "colab": {
          "base_uri": "https://localhost:8080/",
          "height": 329
        }
      },
      "source": [
        "sub1model.clear()\n",
        "sub1model.report(target='transition', filtered=True)"
      ],
      "execution_count": 0,
      "outputs": [
        {
          "output_type": "stream",
          "text": [
            "linearSVC: \n",
            "\tmean accuracy=86.25%, standard deviation: +/- 10.38%\n",
            "\n",
            "SVC: \n",
            "\tmean accuracy=85.00%, standard deviation: +/- 13.46%\n",
            "\n",
            "log l2: \n",
            "\tmean accuracy=86.25%, standard deviation: +/- 10.38%\n",
            "\n",
            "log l1: \n",
            "\tmean accuracy=86.25%, standard deviation: +/- 10.38%\n",
            "\n",
            "ridge: \n",
            "\tmean accuracy=86.25%, standard deviation: +/- 10.38%\n",
            "\n",
            "GNB: \n",
            "\tmean accuracy=71.25%, standard deviation: +/- 11.25%\n",
            "\n"
          ],
          "name": "stdout"
        }
      ]
    },
    {
      "cell_type": "markdown",
      "metadata": {
        "id": "Au8hurUvsWfa",
        "colab_type": "text"
      },
      "source": [
        "We also found that applying principal component analysis (PCA) to the subject's dataset resulted in identical mean accuracies for all classifiers except Gaussian Naive Bayes, though its accuracy still increased. The standard deviations of all classifiers except GNB increased by up to 2%, whereas the GNB's standard deviation dropped by 1%."
      ]
    },
    {
      "cell_type": "code",
      "metadata": {
        "id": "Fxu5gLANoi1P",
        "colab_type": "code",
        "outputId": "80813bc4-f137-4867-fb3b-080235fae65c",
        "colab": {
          "base_uri": "https://localhost:8080/",
          "height": 329
        }
      },
      "source": [
        "sub1model.clear()\n",
        "sub1model.report(target='transition', PCA=True)"
      ],
      "execution_count": 0,
      "outputs": [
        {
          "output_type": "stream",
          "text": [
            "linearSVC: \n",
            "\tmean accuracy=85.42%, standard deviation: +/- 6.79%\n",
            "\n",
            "SVC: \n",
            "\tmean accuracy=85.42%, standard deviation: +/- 6.19%\n",
            "\n",
            "log l2: \n",
            "\tmean accuracy=85.42%, standard deviation: +/- 6.79%\n",
            "\n",
            "log l1: \n",
            "\tmean accuracy=85.42%, standard deviation: +/- 6.79%\n",
            "\n",
            "ridge: \n",
            "\tmean accuracy=85.42%, standard deviation: +/- 6.79%\n",
            "\n",
            "GNB: \n",
            "\tmean accuracy=79.67%, standard deviation: +/- 7.18%\n",
            "\n"
          ],
          "name": "stdout"
        }
      ]
    },
    {
      "cell_type": "markdown",
      "metadata": {
        "id": "uvfjUBfxsv_4",
        "colab_type": "text"
      },
      "source": [
        "Finally, applying both conditions to the system revealed performance increases for the linearSVC, SVC, and ridge models compared to the full unscaled dataset, but poorer performance for the logistic regression models. GNB rose drastically to become the most effective and precise model of all under these conditions. All models except GNB had as broad or broader standard deviations in this case than either for the filtered condition or PCA alone. Overall, we determined that a logistic regression of either regularization type or ridge classifier trained using high offset filtering or a GNB combined with both high offset filtering and PCA would be equally ideal transition classifier models, as they were all able to distinguish 'between' transitions from 'within' transitions with an accuracy of 86.25% +/- 10.38%. This degree of accuracy is resoundingly higher than a 50/50 guess, so the results for subject 1 satisfactorily support our second hypothesis: we can indeed train machine learning models to correctly classify the types of transitions visual stimuli make as they traverse a graph with a hidden underlying community structure simply from neuroimaging data."
      ]
    },
    {
      "cell_type": "code",
      "metadata": {
        "id": "4W0u8yzZolS-",
        "colab_type": "code",
        "outputId": "a30cbe76-c585-4bc4-91d4-0d7b445265c3",
        "colab": {
          "base_uri": "https://localhost:8080/",
          "height": 329
        }
      },
      "source": [
        "sub1model.clear()\n",
        "sub1model.report(target='transition', filtered=True, PCA=True)"
      ],
      "execution_count": 0,
      "outputs": [
        {
          "output_type": "stream",
          "text": [
            "linearSVC: \n",
            "\tmean accuracy=83.75%, standard deviation: +/- 13.75%\n",
            "\n",
            "SVC: \n",
            "\tmean accuracy=85.00%, standard deviation: +/- 13.46%\n",
            "\n",
            "log l2: \n",
            "\tmean accuracy=82.50%, standard deviation: +/- 13.92%\n",
            "\n",
            "log l1: \n",
            "\tmean accuracy=82.50%, standard deviation: +/- 13.92%\n",
            "\n",
            "ridge: \n",
            "\tmean accuracy=85.00%, standard deviation: +/- 13.46%\n",
            "\n",
            "GNB: \n",
            "\tmean accuracy=86.25%, standard deviation: +/- 10.38%\n",
            "\n"
          ],
          "name": "stdout"
        }
      ]
    },
    {
      "cell_type": "markdown",
      "metadata": {
        "id": "EITkObXMPZ9v",
        "colab_type": "text"
      },
      "source": [
        "The examples below demonstrate the same comparisons as above but examine community label classification using subject 19. First, we see that the SVC model was the most accurate predictor of the community membership of perceived items when trained on the full unscaled dataset."
      ]
    },
    {
      "cell_type": "code",
      "metadata": {
        "id": "u6D2HPI1t_rV",
        "colab_type": "code",
        "outputId": "a4dc4d64-20e9-47af-9104-f90bddb33271",
        "colab": {
          "base_uri": "https://localhost:8080/",
          "height": 295
        }
      },
      "source": [
        "sub19model = Classifier(subject_number=19, random_state=3000)\n",
        "sub19model.visualize(target='community')"
      ],
      "execution_count": 0,
      "outputs": [
        {
          "output_type": "display_data",
          "data": {
            "image/png": "[encoded data removed]",
            "text/plain": [
              "<Figure size 432x288 with 1 Axes>"
            ]
          },
          "metadata": {
            "tags": [],
            "needs_background": "light"
          }
        }
      ]
    },
    {
      "cell_type": "code",
      "metadata": {
        "id": "YGkikTDo1kqg",
        "colab_type": "code",
        "outputId": "21777314-e497-41d0-9717-5e6c51e1621e",
        "colab": {
          "base_uri": "https://localhost:8080/",
          "height": 329
        }
      },
      "source": [
        "sub19model.report(target='community')"
      ],
      "execution_count": 0,
      "outputs": [
        {
          "output_type": "stream",
          "text": [
            "linearSVC: \n",
            "\tmean accuracy=53.29%, standard deviation: +/- 6.22%\n",
            "\n",
            "SVC: \n",
            "\tmean accuracy=55.83%, standard deviation: +/- 8.79%\n",
            "\n",
            "log l2: \n",
            "\tmean accuracy=51.96%, standard deviation: +/- 6.06%\n",
            "\n",
            "log l1: \n",
            "\tmean accuracy=54.50%, standard deviation: +/- 6.32%\n",
            "\n",
            "ridge: \n",
            "\tmean accuracy=53.96%, standard deviation: +/- 8.26%\n",
            "\n",
            "GNB: \n",
            "\tmean accuracy=44.33%, standard deviation: +/- 9.81%\n",
            "\n"
          ],
          "name": "stdout"
        }
      ]
    },
    {
      "cell_type": "markdown",
      "metadata": {
        "id": "rUZrWSZVS_iJ",
        "colab_type": "text"
      },
      "source": [
        "Removing items with high offset times from the dataset permitted a slight increase in the mean accuracy of all community classifier models, but at the cost of more than doubling their standard deviations in nearly all cases."
      ]
    },
    {
      "cell_type": "code",
      "metadata": {
        "id": "HJBBJREAgCQj",
        "colab_type": "code",
        "outputId": "ce98b6ff-9462-47b6-fbe8-eee7ed7c8a9d",
        "colab": {
          "base_uri": "https://localhost:8080/",
          "height": 329
        }
      },
      "source": [
        "sub19model.clear()\n",
        "sub19model.report(target='community', filtered=True)"
      ],
      "execution_count": 0,
      "outputs": [
        {
          "output_type": "stream",
          "text": [
            "linearSVC: \n",
            "\tmean accuracy=52.92%, standard deviation: +/- 18.93%\n",
            "\n",
            "SVC: \n",
            "\tmean accuracy=51.81%, standard deviation: +/- 18.41%\n",
            "\n",
            "log l2: \n",
            "\tmean accuracy=52.92%, standard deviation: +/- 20.79%\n",
            "\n",
            "log l1: \n",
            "\tmean accuracy=55.42%, standard deviation: +/- 15.82%\n",
            "\n",
            "ridge: \n",
            "\tmean accuracy=55.28%, standard deviation: +/- 18.48%\n",
            "\n",
            "GNB: \n",
            "\tmean accuracy=46.11%, standard deviation: +/- 13.22%\n",
            "\n"
          ],
          "name": "stdout"
        }
      ]
    },
    {
      "cell_type": "markdown",
      "metadata": {
        "id": "ncSuzGbaTk4O",
        "colab_type": "text"
      },
      "source": [
        "In contrast, applying PCA to the data reduced the mean accuracy of all models except GNB. However, it also reduced the standard deviation of the SVC and ridge models, making them more precise. Combining PCA with high offset filtering made little difference except in the doubling of standard deviation, so based on subject 19's runs, the ideal community classifier model would simply be an SVC trained on the full unscaled dataset."
      ]
    },
    {
      "cell_type": "code",
      "metadata": {
        "id": "FRXUU8CLSLR4",
        "colab_type": "code",
        "outputId": "ab9ba124-c9bc-4194-ba1e-45943931b6f1",
        "colab": {
          "base_uri": "https://localhost:8080/",
          "height": 329
        }
      },
      "source": [
        "sub19model.clear()\n",
        "sub19model.report(target='community', PCA=True)"
      ],
      "execution_count": 0,
      "outputs": [
        {
          "output_type": "stream",
          "text": [
            "linearSVC: \n",
            "\tmean accuracy=51.83%, standard deviation: +/- 7.39%\n",
            "\n",
            "SVC: \n",
            "\tmean accuracy=47.46%, standard deviation: +/- 6.90%\n",
            "\n",
            "log l2: \n",
            "\tmean accuracy=50.54%, standard deviation: +/- 8.91%\n",
            "\n",
            "log l1: \n",
            "\tmean accuracy=50.54%, standard deviation: +/- 8.91%\n",
            "\n",
            "ridge: \n",
            "\tmean accuracy=51.88%, standard deviation: +/- 7.03%\n",
            "\n",
            "GNB: \n",
            "\tmean accuracy=49.25%, standard deviation: +/- 9.93%\n",
            "\n"
          ],
          "name": "stdout"
        }
      ]
    },
    {
      "cell_type": "code",
      "metadata": {
        "id": "8nd10xmzSQVK",
        "colab_type": "code",
        "outputId": "b723a42a-b4a2-43e5-cf0b-683077d7cdd0",
        "colab": {
          "base_uri": "https://localhost:8080/",
          "height": 329
        }
      },
      "source": [
        "sub19model.clear()\n",
        "sub19model.report(target='community', filtered=True, PCA=True)"
      ],
      "execution_count": 0,
      "outputs": [
        {
          "output_type": "stream",
          "text": [
            "linearSVC: \n",
            "\tmean accuracy=51.39%, standard deviation: +/- 24.85%\n",
            "\n",
            "SVC: \n",
            "\tmean accuracy=51.25%, standard deviation: +/- 19.62%\n",
            "\n",
            "log l2: \n",
            "\tmean accuracy=52.50%, standard deviation: +/- 24.25%\n",
            "\n",
            "log l1: \n",
            "\tmean accuracy=52.50%, standard deviation: +/- 24.25%\n",
            "\n",
            "ridge: \n",
            "\tmean accuracy=51.25%, standard deviation: +/- 23.51%\n",
            "\n",
            "GNB: \n",
            "\tmean accuracy=48.89%, standard deviation: +/- 22.50%\n",
            "\n"
          ],
          "name": "stdout"
        }
      ]
    },
    {
      "cell_type": "markdown",
      "metadata": {
        "id": "AavOzrhIuM9h",
        "colab_type": "text"
      },
      "source": [
        "To more rigorously test our second and third hypotheses, we had to take into account the whole group of subjects. The code blocks below record the performance of a transition classifier trained on the full unscaled datasets of all 20 subjects using each type of model our system incorporated. This took about an hour and a half to run altogether. The resulting means and standard deviations of model accuracies were stored in a DataFrame called transition_classifier_performances together with each subject's accuracy on the behavioral task. We constructed the plots in Figure 2 using these accuracies to check for correlations between behavioral task performance and classifiability of transitions from brain data by any of the models, but we found no such conclusive patterns. Then, we repeated the procedure on a community label classifier and were able to generate the similarly inconclusive plots shown in Figure 3."
      ]
    },
    {
      "cell_type": "code",
      "metadata": {
        "id": "mpclPe7EvRVP",
        "colab_type": "code",
        "colab": {}
      },
      "source": [
        "performance = {'linearSVC': [],\n",
        "               'SVC': [],\n",
        "               'log l2': [],\n",
        "               'log l1': [],\n",
        "               'ridge': [],\n",
        "               'GNB': [],\n",
        "               'accuracy': []}\n",
        "\n",
        "for i in range(20):\n",
        "    classifier_i = Classifier(i + 1, random_state=3000)\n",
        "    classifier_i.fit(target='transition')\n",
        "    for estimator in classifier_i.classifier_results.keys():\n",
        "        performance[estimator].append(classifier_i.classifier_results[estimator])\n",
        "    performance['accuracy'].append(classifier_i.subject_data.subject_accuracy)"
      ],
      "execution_count": 0,
      "outputs": []
    },
    {
      "cell_type": "code",
      "metadata": {
        "id": "I-sntWCdvZrs",
        "colab_type": "code",
        "colab": {}
      },
      "source": [
        "transition_classifier_performances = pd.DataFrame(performance)"
      ],
      "execution_count": 0,
      "outputs": []
    },
    {
      "cell_type": "code",
      "metadata": {
        "id": "-q6qqwVjvixX",
        "colab_type": "code",
        "outputId": "f5bbe401-511c-4d2d-a96a-db324193f467",
        "colab": {
          "base_uri": "https://localhost:8080/",
          "height": 309
        }
      },
      "source": [
        "transition_classifier_performances.head()"
      ],
      "execution_count": 0,
      "outputs": [
        {
          "output_type": "execute_result",
          "data": {
            "text/html": [
              "<div>\n",
              "<style scoped>\n",
              "    .dataframe tbody tr th:only-of-type {\n",
              "        vertical-align: middle;\n",
              "    }\n",
              "\n",
              "    .dataframe tbody tr th {\n",
              "        vertical-align: top;\n",
              "    }\n",
              "\n",
              "    .dataframe thead th {\n",
              "        text-align: right;\n",
              "    }\n",
              "</style>\n",
              "<table border=\"1\" class=\"dataframe\">\n",
              "  <thead>\n",
              "    <tr style=\"text-align: right;\">\n",
              "      <th></th>\n",
              "      <th>linearSVC</th>\n",
              "      <th>SVC</th>\n",
              "      <th>log l2</th>\n",
              "      <th>log l1</th>\n",
              "      <th>ridge</th>\n",
              "      <th>GNB</th>\n",
              "      <th>accuracy</th>\n",
              "    </tr>\n",
              "  </thead>\n",
              "  <tbody>\n",
              "    <tr>\n",
              "      <th>0</th>\n",
              "      <td>(0.8287500000000001, 0.04667596633529224)</td>\n",
              "      <td>(0.8350000000000002, 0.055752428945592444)</td>\n",
              "      <td>(0.8350000000000002, 0.055752428945592444)</td>\n",
              "      <td>(0.8291666666666668, 0.06101001739241042)</td>\n",
              "      <td>(0.8416666666666668, 0.0626941429126801)</td>\n",
              "      <td>(0.7329166666666667, 0.08157413976118767)</td>\n",
              "      <td>0.96375</td>\n",
              "    </tr>\n",
              "    <tr>\n",
              "      <th>1</th>\n",
              "      <td>(0.805, 0.0839105012630852)</td>\n",
              "      <td>(0.805, 0.0839105012630852)</td>\n",
              "      <td>(0.8045833333333332, 0.09906595025537282)</td>\n",
              "      <td>(0.7983333333333332, 0.09636086688415932)</td>\n",
              "      <td>(0.805, 0.0839105012630852)</td>\n",
              "      <td>(0.61625, 0.11425255285258766)</td>\n",
              "      <td>0.53875</td>\n",
              "    </tr>\n",
              "    <tr>\n",
              "      <th>2</th>\n",
              "      <td>(0.8724999999999999, 0.12178076841421046)</td>\n",
              "      <td>(0.8724999999999999, 0.12178076841421046)</td>\n",
              "      <td>(0.8724999999999999, 0.12178076841421046)</td>\n",
              "      <td>(0.8724999999999999, 0.12178076841421046)</td>\n",
              "      <td>(0.8724999999999999, 0.12178076841421046)</td>\n",
              "      <td>(0.6, 0.17844817174742922)</td>\n",
              "      <td>0.08375</td>\n",
              "    </tr>\n",
              "    <tr>\n",
              "      <th>3</th>\n",
              "      <td>(0.7991666666666667, 0.08856102729505545)</td>\n",
              "      <td>(0.7991666666666667, 0.08856102729505545)</td>\n",
              "      <td>(0.7991666666666667, 0.08856102729505545)</td>\n",
              "      <td>(0.7991666666666667, 0.08856102729505545)</td>\n",
              "      <td>(0.7991666666666667, 0.08856102729505545)</td>\n",
              "      <td>(0.60875, 0.1405155438218689)</td>\n",
              "      <td>0.93250</td>\n",
              "    </tr>\n",
              "    <tr>\n",
              "      <th>4</th>\n",
              "      <td>(0.8545833333333335, 0.09896074558463405)</td>\n",
              "      <td>(0.8545833333333335, 0.09896074558463405)</td>\n",
              "      <td>(0.8545833333333335, 0.09896074558463405)</td>\n",
              "      <td>(0.8483333333333334, 0.0954375886814694)</td>\n",
              "      <td>(0.8545833333333335, 0.09896074558463405)</td>\n",
              "      <td>(0.8545833333333335, 0.09896074558463405)</td>\n",
              "      <td>0.57000</td>\n",
              "    </tr>\n",
              "  </tbody>\n",
              "</table>\n",
              "</div>"
            ],
            "text/plain": [
              "                                   linearSVC  ... accuracy\n",
              "0  (0.8287500000000001, 0.04667596633529224)  ...  0.96375\n",
              "1                (0.805, 0.0839105012630852)  ...  0.53875\n",
              "2  (0.8724999999999999, 0.12178076841421046)  ...  0.08375\n",
              "3  (0.7991666666666667, 0.08856102729505545)  ...  0.93250\n",
              "4  (0.8545833333333335, 0.09896074558463405)  ...  0.57000\n",
              "\n",
              "[5 rows x 7 columns]"
            ]
          },
          "metadata": {
            "tags": []
          },
          "execution_count": 12
        }
      ]
    },
    {
      "cell_type": "markdown",
      "metadata": {
        "id": "CUeM6q1O9raS",
        "colab_type": "text"
      },
      "source": [
        "Across the whole group of subjects, the logistic regression model with L2 regularization was on average the most effective classifier of transition type, although there was a four-way tie for highest mean accuracy between it and the linear SVC, SVC, and ridge classifier models at 88.0417%."
      ]
    },
    {
      "cell_type": "code",
      "metadata": {
        "id": "Pnh2fCmdy_Rv",
        "colab_type": "code",
        "outputId": "971b1eee-0d80-4d04-e8e0-5f1ae3f7c498",
        "colab": {
          "base_uri": "https://localhost:8080/",
          "height": 294
        }
      },
      "source": [
        "transition_classifier_means = transition_classifier_performances.drop('accuracy', axis=1).applymap(\n",
        "    lambda scores: scores[0]\n",
        ")\n",
        "\n",
        "# statistical information about the spread of transition classifier performances\n",
        "transition_classifier_means.describe()"
      ],
      "execution_count": 0,
      "outputs": [
        {
          "output_type": "execute_result",
          "data": {
            "text/html": [
              "<div>\n",
              "<style scoped>\n",
              "    .dataframe tbody tr th:only-of-type {\n",
              "        vertical-align: middle;\n",
              "    }\n",
              "\n",
              "    .dataframe tbody tr th {\n",
              "        vertical-align: top;\n",
              "    }\n",
              "\n",
              "    .dataframe thead th {\n",
              "        text-align: right;\n",
              "    }\n",
              "</style>\n",
              "<table border=\"1\" class=\"dataframe\">\n",
              "  <thead>\n",
              "    <tr style=\"text-align: right;\">\n",
              "      <th></th>\n",
              "      <th>linearSVC</th>\n",
              "      <th>SVC</th>\n",
              "      <th>log l2</th>\n",
              "      <th>log l1</th>\n",
              "      <th>ridge</th>\n",
              "      <th>GNB</th>\n",
              "    </tr>\n",
              "  </thead>\n",
              "  <tbody>\n",
              "    <tr>\n",
              "      <th>count</th>\n",
              "      <td>20.000000</td>\n",
              "      <td>20.000000</td>\n",
              "      <td>20.000000</td>\n",
              "      <td>20.000000</td>\n",
              "      <td>20.000000</td>\n",
              "      <td>20.000000</td>\n",
              "    </tr>\n",
              "    <tr>\n",
              "      <th>mean</th>\n",
              "      <td>0.833854</td>\n",
              "      <td>0.834458</td>\n",
              "      <td>0.836042</td>\n",
              "      <td>0.827542</td>\n",
              "      <td>0.835125</td>\n",
              "      <td>0.689417</td>\n",
              "    </tr>\n",
              "    <tr>\n",
              "      <th>std</th>\n",
              "      <td>0.027493</td>\n",
              "      <td>0.027584</td>\n",
              "      <td>0.026093</td>\n",
              "      <td>0.029943</td>\n",
              "      <td>0.027478</td>\n",
              "      <td>0.082315</td>\n",
              "    </tr>\n",
              "    <tr>\n",
              "      <th>min</th>\n",
              "      <td>0.792500</td>\n",
              "      <td>0.798750</td>\n",
              "      <td>0.799167</td>\n",
              "      <td>0.779583</td>\n",
              "      <td>0.798750</td>\n",
              "      <td>0.596667</td>\n",
              "    </tr>\n",
              "    <tr>\n",
              "      <th>25%</th>\n",
              "      <td>0.808750</td>\n",
              "      <td>0.808750</td>\n",
              "      <td>0.813750</td>\n",
              "      <td>0.798958</td>\n",
              "      <td>0.808750</td>\n",
              "      <td>0.619062</td>\n",
              "    </tr>\n",
              "    <tr>\n",
              "      <th>50%</th>\n",
              "      <td>0.838125</td>\n",
              "      <td>0.838958</td>\n",
              "      <td>0.838958</td>\n",
              "      <td>0.830417</td>\n",
              "      <td>0.842292</td>\n",
              "      <td>0.657292</td>\n",
              "    </tr>\n",
              "    <tr>\n",
              "      <th>75%</th>\n",
              "      <td>0.850521</td>\n",
              "      <td>0.850521</td>\n",
              "      <td>0.850521</td>\n",
              "      <td>0.844896</td>\n",
              "      <td>0.850521</td>\n",
              "      <td>0.740208</td>\n",
              "    </tr>\n",
              "    <tr>\n",
              "      <th>max</th>\n",
              "      <td>0.880417</td>\n",
              "      <td>0.880417</td>\n",
              "      <td>0.880417</td>\n",
              "      <td>0.874167</td>\n",
              "      <td>0.880417</td>\n",
              "      <td>0.854583</td>\n",
              "    </tr>\n",
              "  </tbody>\n",
              "</table>\n",
              "</div>"
            ],
            "text/plain": [
              "       linearSVC        SVC     log l2     log l1      ridge        GNB\n",
              "count  20.000000  20.000000  20.000000  20.000000  20.000000  20.000000\n",
              "mean    0.833854   0.834458   0.836042   0.827542   0.835125   0.689417\n",
              "std     0.027493   0.027584   0.026093   0.029943   0.027478   0.082315\n",
              "min     0.792500   0.798750   0.799167   0.779583   0.798750   0.596667\n",
              "25%     0.808750   0.808750   0.813750   0.798958   0.808750   0.619062\n",
              "50%     0.838125   0.838958   0.838958   0.830417   0.842292   0.657292\n",
              "75%     0.850521   0.850521   0.850521   0.844896   0.850521   0.740208\n",
              "max     0.880417   0.880417   0.880417   0.874167   0.880417   0.854583"
            ]
          },
          "metadata": {
            "tags": []
          },
          "execution_count": 13
        }
      ]
    },
    {
      "cell_type": "code",
      "metadata": {
        "id": "rHYU-qIDRk0M",
        "colab_type": "code",
        "colab": {}
      },
      "source": [
        "# the Shapiro-Wilk test justifies the assumption of normality required for t-tests\n",
        "# t-statistics generated by single sample T-tests can be used to reject null hypotheses\n",
        "from scipy.stats import shapiro, ttest_1samp\n",
        "from functools import partial"
      ],
      "execution_count": 0,
      "outputs": []
    },
    {
      "cell_type": "code",
      "metadata": {
        "id": "0W2Fbe7sPvM1",
        "colab_type": "code",
        "outputId": "c2077e2a-9d35-4ea2-dded-05eaf4395670",
        "colab": {
          "base_uri": "https://localhost:8080/",
          "height": 139
        }
      },
      "source": [
        "# apply Shapiro-Wilk test to the distribution of transition classifier accuracies for each model\n",
        "transition_shapiro_results = transition_classifier_means.apply(shapiro)\n",
        "transition_shapiro_results"
      ],
      "execution_count": 0,
      "outputs": [
        {
          "output_type": "execute_result",
          "data": {
            "text/plain": [
              "linearSVC      (0.9412332773208618, 0.2529760003089905)\n",
              "SVC           (0.9186748266220093, 0.09343565255403519)\n",
              "log l2        (0.9391248226165771, 0.23080673813819885)\n",
              "log l1        (0.9347795248031616, 0.19074752926826477)\n",
              "ridge         (0.9166733622550964, 0.08551676571369171)\n",
              "GNB          (0.8892562985420227, 0.026059472933411598)\n",
              "dtype: object"
            ]
          },
          "metadata": {
            "tags": []
          },
          "execution_count": 16
        }
      ]
    },
    {
      "cell_type": "code",
      "metadata": {
        "id": "UsWbPTDQxAML",
        "colab_type": "code",
        "outputId": "8cea701c-fc57-4af1-b5f4-8ca730786974",
        "colab": {
          "base_uri": "https://localhost:8080/",
          "height": 139
        }
      },
      "source": [
        "# apply single sample T-test to verify that the transition classifiers are significantly more\n",
        "# accurate than a coin toss\n",
        "transition_classifier_t_stats = transition_classifier_means.apply(partial(ttest_1samp, popmean=0.5))\n",
        "transition_classifier_t_stats"
      ],
      "execution_count": 0,
      "outputs": [
        {
          "output_type": "execute_result",
          "data": {
            "text/plain": [
              "linearSVC       (54.30627119994117, 2.61593646580144e-22)\n",
              "SVC          (54.224435808335116, 2.6915045174288655e-22)\n",
              "log l2        (57.595930991927055, 8.612413841461606e-23)\n",
              "log l1         (48.92054283479008, 1.877603778047628e-21)\n",
              "ridge          (54.54252121482822, 2.410046104808136e-22)\n",
              "GNB           (10.290949834048115, 3.309309984273153e-09)\n",
              "dtype: object"
            ]
          },
          "metadata": {
            "tags": []
          },
          "execution_count": 17
        }
      ]
    },
    {
      "cell_type": "markdown",
      "metadata": {
        "id": "pctMxn7AWZwN",
        "colab_type": "text"
      },
      "source": [
        "All models except the GNB classifier pass the Shapiro-Wilk normality test with non-significant p-values (p>.05), so t-tests are justified on the rest. Since all t-statistics calculated for transition classifier models were considerably larger than 1, we can conclude that each algorithm we used permits rejection of the null hypothesis challenging hypothesis two. Our work supports the contention that the motion of visual stimuli between discretely organized regions of a visual space can be distinguished from their motion within such regions by supervised machine learning systems trained on fMRI recordings of the brains of their observers."
      ]
    },
    {
      "cell_type": "code",
      "metadata": {
        "id": "9Ork-qpXv8q6",
        "colab_type": "code",
        "outputId": "a3ded82d-1a6b-434a-88d9-7c86c9f360c0",
        "colab": {
          "base_uri": "https://localhost:8080/",
          "height": 552
        }
      },
      "source": [
        "# visual comparison of transition classifiers\n",
        "%matplotlib inline\n",
        "import matplotlib.pyplot as plt\n",
        "\n",
        "means = transition_classifier_performances\n",
        "\n",
        "x = transition_classifier_performances['accuracy']\n",
        "\n",
        "fig = plt.figure()\n",
        "fig.set_figheight(8)\n",
        "fig.set_figwidth(8)\n",
        "\n",
        "ax = fig.add_subplot(111, frameon=False, xticks=[], yticks=[])\n",
        "\n",
        "ax1 = fig.add_subplot(321)\n",
        "ax1.scatter(x, transition_classifier_means['linearSVC'])\n",
        "ax1.set_title('linearSVC')\n",
        "\n",
        "ax2 = fig.add_subplot(322)\n",
        "ax2.scatter(x, transition_classifier_means['SVC'])\n",
        "ax2.set_title('SVC')\n",
        "\n",
        "ax3 = fig.add_subplot(323)\n",
        "ax3.scatter(x, transition_classifier_means['log l2'])\n",
        "ax3.set_title('log l2')\n",
        "\n",
        "ax4 = fig.add_subplot(324)\n",
        "ax4.scatter(x, transition_classifier_means['log l1'])\n",
        "ax4.set_title('log l1')\n",
        "\n",
        "ax5 = fig.add_subplot(325)\n",
        "ax5.scatter(x, transition_classifier_means['ridge'])\n",
        "ax5.set_title('ridge')\n",
        "\n",
        "ax6 = fig.add_subplot(326)\n",
        "ax6.scatter(x, transition_classifier_means['GNB'])\n",
        "ax6.set_title('GNB')\n",
        "\n",
        "ax.set_xlabel(\"Subject Accuracy\", labelpad=30)\n",
        "ax.set_ylabel(\"Classification Accuracy\", labelpad=40)\n",
        "ax.set_title('Classifiability of Transition Perception by Behavioral Task Performance', pad=30)\n",
        "plt.tight_layout()"
      ],
      "execution_count": 0,
      "outputs": [
        {
          "output_type": "display_data",
          "data": {
            "image/png": "[encoded data removed]",
            "text/plain": [
              "<Figure size 576x576 with 7 Axes>"
            ]
          },
          "metadata": {
            "tags": [],
            "needs_background": "light"
          }
        }
      ]
    },
    {
      "cell_type": "code",
      "metadata": {
        "id": "QPcf42lVgIzq",
        "colab_type": "code",
        "colab": {}
      },
      "source": [
        "performance = {'linearSVC': [],\n",
        "               'SVC': [],\n",
        "               'log l2': [],\n",
        "               'log l1': [],\n",
        "               'ridge': [],\n",
        "               'GNB': [],\n",
        "               'accuracy': []}\n",
        "\n",
        "for i in range(20):\n",
        "    classifier_i = Classifier(i + 1, random_state=3000)\n",
        "    classifier_i.fit(target='community')\n",
        "    for estimator in classifier_i.classifier_results.keys():\n",
        "        performance[estimator].append(classifier_i.classifier_results[estimator])\n",
        "    performance['accuracy'].append(classifier_i.subject_data.subject_accuracy)"
      ],
      "execution_count": 0,
      "outputs": []
    },
    {
      "cell_type": "code",
      "metadata": {
        "id": "9yGjFuO9ucWr",
        "colab_type": "code",
        "colab": {}
      },
      "source": [
        "community_classifier_performances = pd.DataFrame(performance)"
      ],
      "execution_count": 0,
      "outputs": []
    },
    {
      "cell_type": "code",
      "metadata": {
        "id": "3Pt-f5fQmRUk",
        "colab_type": "code",
        "outputId": "472ae36d-a1ef-4443-eb38-7ce7e916323c",
        "colab": {
          "base_uri": "https://localhost:8080/",
          "height": 309
        }
      },
      "source": [
        "community_classifier_performances.head()"
      ],
      "execution_count": 0,
      "outputs": [
        {
          "output_type": "execute_result",
          "data": {
            "text/html": [
              "<div>\n",
              "<style scoped>\n",
              "    .dataframe tbody tr th:only-of-type {\n",
              "        vertical-align: middle;\n",
              "    }\n",
              "\n",
              "    .dataframe tbody tr th {\n",
              "        vertical-align: top;\n",
              "    }\n",
              "\n",
              "    .dataframe thead th {\n",
              "        text-align: right;\n",
              "    }\n",
              "</style>\n",
              "<table border=\"1\" class=\"dataframe\">\n",
              "  <thead>\n",
              "    <tr style=\"text-align: right;\">\n",
              "      <th></th>\n",
              "      <th>linearSVC</th>\n",
              "      <th>SVC</th>\n",
              "      <th>log l2</th>\n",
              "      <th>log l1</th>\n",
              "      <th>ridge</th>\n",
              "      <th>GNB</th>\n",
              "      <th>accuracy</th>\n",
              "    </tr>\n",
              "  </thead>\n",
              "  <tbody>\n",
              "    <tr>\n",
              "      <th>0</th>\n",
              "      <td>(0.6241666666666666, 0.11699062165641977)</td>\n",
              "      <td>(0.62375, 0.11908286680571083)</td>\n",
              "      <td>(0.6370833333333333, 0.11562706454613278)</td>\n",
              "      <td>(0.6174999999999999, 0.11428825642013947)</td>\n",
              "      <td>(0.6304166666666666, 0.11174204545390344)</td>\n",
              "      <td>(0.44708333333333333, 0.12860158652036746)</td>\n",
              "      <td>0.96375</td>\n",
              "    </tr>\n",
              "    <tr>\n",
              "      <th>1</th>\n",
              "      <td>(0.6483333333333333, 0.13078555390833924)</td>\n",
              "      <td>(0.6291666666666667, 0.131140827611643)</td>\n",
              "      <td>(0.6224999999999999, 0.13280102074574243)</td>\n",
              "      <td>(0.6229166666666666, 0.13134255995508676)</td>\n",
              "      <td>(0.66125, 0.13273367759037893)</td>\n",
              "      <td>(0.39583333333333337, 0.09583333333333334)</td>\n",
              "      <td>0.53875</td>\n",
              "    </tr>\n",
              "    <tr>\n",
              "      <th>2</th>\n",
              "      <td>(0.63875, 0.08825173117596932)</td>\n",
              "      <td>(0.6325000000000001, 0.09116910417216764)</td>\n",
              "      <td>(0.62625, 0.08482109440201509)</td>\n",
              "      <td>(0.6258333333333334, 0.08583333333333333)</td>\n",
              "      <td>(0.645, 0.10154706079230238)</td>\n",
              "      <td>(0.5120833333333333, 0.10358923287034548)</td>\n",
              "      <td>0.08375</td>\n",
              "    </tr>\n",
              "    <tr>\n",
              "      <th>3</th>\n",
              "      <td>(0.6404166666666666, 0.08354244596477756)</td>\n",
              "      <td>(0.6283333333333334, 0.06077622890571607)</td>\n",
              "      <td>(0.6216666666666666, 0.072476049683863)</td>\n",
              "      <td>(0.6220833333333333, 0.04044243165015894)</td>\n",
              "      <td>(0.6404166666666666, 0.07286426688637504)</td>\n",
              "      <td>(0.5495833333333333, 0.12507567153971677)</td>\n",
              "      <td>0.93250</td>\n",
              "    </tr>\n",
              "    <tr>\n",
              "      <th>4</th>\n",
              "      <td>(0.5862499999999999, 0.10376673225182635)</td>\n",
              "      <td>(0.5795833333333333, 0.09237322393421157)</td>\n",
              "      <td>(0.5733333333333334, 0.11055730037707444)</td>\n",
              "      <td>(0.5729166666666667, 0.08296271753022558)</td>\n",
              "      <td>(0.5733333333333334, 0.09939399713597731)</td>\n",
              "      <td>(0.5599999999999999, 0.08364940060886403)</td>\n",
              "      <td>0.57000</td>\n",
              "    </tr>\n",
              "  </tbody>\n",
              "</table>\n",
              "</div>"
            ],
            "text/plain": [
              "                                   linearSVC  ... accuracy\n",
              "0  (0.6241666666666666, 0.11699062165641977)  ...  0.96375\n",
              "1  (0.6483333333333333, 0.13078555390833924)  ...  0.53875\n",
              "2             (0.63875, 0.08825173117596932)  ...  0.08375\n",
              "3  (0.6404166666666666, 0.08354244596477756)  ...  0.93250\n",
              "4  (0.5862499999999999, 0.10376673225182635)  ...  0.57000\n",
              "\n",
              "[5 rows x 7 columns]"
            ]
          },
          "metadata": {
            "tags": []
          },
          "execution_count": 10
        }
      ]
    },
    {
      "cell_type": "markdown",
      "metadata": {
        "id": "HhBelU2nzgPJ",
        "colab_type": "text"
      },
      "source": [
        "Across the whole group of subjects, the SVC model was on average the most effective classifier of community membership, and sported the highest overall average accuracy of 69.125%."
      ]
    },
    {
      "cell_type": "code",
      "metadata": {
        "id": "tl1QvjUfwrGj",
        "colab_type": "code",
        "outputId": "c33b5ef6-69a0-4188-8b85-238b449a9ca7",
        "colab": {
          "base_uri": "https://localhost:8080/",
          "height": 294
        }
      },
      "source": [
        "community_classifier_means = community_classifier_performances.drop('accuracy', axis=1).applymap(\n",
        "    lambda scores: scores[0]\n",
        ")\n",
        "\n",
        "# statistical information about the spread of community classifier performances\n",
        "community_classifier_means.describe()"
      ],
      "execution_count": 0,
      "outputs": [
        {
          "output_type": "execute_result",
          "data": {
            "text/html": [
              "<div>\n",
              "<style scoped>\n",
              "    .dataframe tbody tr th:only-of-type {\n",
              "        vertical-align: middle;\n",
              "    }\n",
              "\n",
              "    .dataframe tbody tr th {\n",
              "        vertical-align: top;\n",
              "    }\n",
              "\n",
              "    .dataframe thead th {\n",
              "        text-align: right;\n",
              "    }\n",
              "</style>\n",
              "<table border=\"1\" class=\"dataframe\">\n",
              "  <thead>\n",
              "    <tr style=\"text-align: right;\">\n",
              "      <th></th>\n",
              "      <th>linearSVC</th>\n",
              "      <th>SVC</th>\n",
              "      <th>log l2</th>\n",
              "      <th>log l1</th>\n",
              "      <th>ridge</th>\n",
              "      <th>GNB</th>\n",
              "    </tr>\n",
              "  </thead>\n",
              "  <tbody>\n",
              "    <tr>\n",
              "      <th>count</th>\n",
              "      <td>20.000000</td>\n",
              "      <td>20.000000</td>\n",
              "      <td>20.000000</td>\n",
              "      <td>20.000000</td>\n",
              "      <td>20.000000</td>\n",
              "      <td>20.000000</td>\n",
              "    </tr>\n",
              "    <tr>\n",
              "      <th>mean</th>\n",
              "      <td>0.588438</td>\n",
              "      <td>0.591896</td>\n",
              "      <td>0.585562</td>\n",
              "      <td>0.580771</td>\n",
              "      <td>0.590708</td>\n",
              "      <td>0.524542</td>\n",
              "    </tr>\n",
              "    <tr>\n",
              "      <th>std</th>\n",
              "      <td>0.058951</td>\n",
              "      <td>0.056407</td>\n",
              "      <td>0.054974</td>\n",
              "      <td>0.059426</td>\n",
              "      <td>0.060761</td>\n",
              "      <td>0.062273</td>\n",
              "    </tr>\n",
              "    <tr>\n",
              "      <th>min</th>\n",
              "      <td>0.490000</td>\n",
              "      <td>0.490000</td>\n",
              "      <td>0.496250</td>\n",
              "      <td>0.446250</td>\n",
              "      <td>0.483750</td>\n",
              "      <td>0.395833</td>\n",
              "    </tr>\n",
              "    <tr>\n",
              "      <th>25%</th>\n",
              "      <td>0.534167</td>\n",
              "      <td>0.550521</td>\n",
              "      <td>0.537812</td>\n",
              "      <td>0.540938</td>\n",
              "      <td>0.540521</td>\n",
              "      <td>0.492500</td>\n",
              "    </tr>\n",
              "    <tr>\n",
              "      <th>50%</th>\n",
              "      <td>0.586875</td>\n",
              "      <td>0.596250</td>\n",
              "      <td>0.583542</td>\n",
              "      <td>0.585208</td>\n",
              "      <td>0.580417</td>\n",
              "      <td>0.518542</td>\n",
              "    </tr>\n",
              "    <tr>\n",
              "      <th>75%</th>\n",
              "      <td>0.642292</td>\n",
              "      <td>0.630000</td>\n",
              "      <td>0.628958</td>\n",
              "      <td>0.623646</td>\n",
              "      <td>0.647500</td>\n",
              "      <td>0.560937</td>\n",
              "    </tr>\n",
              "    <tr>\n",
              "      <th>max</th>\n",
              "      <td>0.685000</td>\n",
              "      <td>0.691250</td>\n",
              "      <td>0.672500</td>\n",
              "      <td>0.679167</td>\n",
              "      <td>0.685417</td>\n",
              "      <td>0.647917</td>\n",
              "    </tr>\n",
              "  </tbody>\n",
              "</table>\n",
              "</div>"
            ],
            "text/plain": [
              "       linearSVC        SVC     log l2     log l1      ridge        GNB\n",
              "count  20.000000  20.000000  20.000000  20.000000  20.000000  20.000000\n",
              "mean    0.588438   0.591896   0.585562   0.580771   0.590708   0.524542\n",
              "std     0.058951   0.056407   0.054974   0.059426   0.060761   0.062273\n",
              "min     0.490000   0.490000   0.496250   0.446250   0.483750   0.395833\n",
              "25%     0.534167   0.550521   0.537812   0.540938   0.540521   0.492500\n",
              "50%     0.586875   0.596250   0.583542   0.585208   0.580417   0.518542\n",
              "75%     0.642292   0.630000   0.628958   0.623646   0.647500   0.560937\n",
              "max     0.685000   0.691250   0.672500   0.679167   0.685417   0.647917"
            ]
          },
          "metadata": {
            "tags": []
          },
          "execution_count": 11
        }
      ]
    },
    {
      "cell_type": "code",
      "metadata": {
        "id": "LPdUb9vuP2_f",
        "colab_type": "code",
        "outputId": "be446af4-ba57-43ed-960b-0afab0a59a06",
        "colab": {
          "base_uri": "https://localhost:8080/",
          "height": 139
        }
      },
      "source": [
        "# apply Shapiro-Wilk test to the distribution of transition classifier accuracies for each model\n",
        "community_shapiro_results = community_classifier_means.apply(shapiro)\n",
        "community_shapiro_results"
      ],
      "execution_count": 0,
      "outputs": [
        {
          "output_type": "execute_result",
          "data": {
            "text/plain": [
              "linearSVC    (0.9338687062263489, 0.1832377165555954)\n",
              "SVC          (0.9621423482894897, 0.5874812602996826)\n",
              "log l2       (0.945598304271698, 0.30516257882118225)\n",
              "log l1       (0.9660413265228271, 0.6700732707977295)\n",
              "ridge        (0.9356772899627686, 0.1984386146068573)\n",
              "GNB          (0.9790956377983093, 0.9218935966491699)\n",
              "dtype: object"
            ]
          },
          "metadata": {
            "tags": []
          },
          "execution_count": 14
        }
      ]
    },
    {
      "cell_type": "code",
      "metadata": {
        "id": "dI1nGTlhz5s_",
        "colab_type": "code",
        "outputId": "120f68a5-b8e1-483d-d6b1-28cf9aeede7f",
        "colab": {
          "base_uri": "https://localhost:8080/",
          "height": 139
        }
      },
      "source": [
        "# apply single sample T-test to ensure that the community classifiers are significantly more\n",
        "# accurate than a uniform guess\n",
        "community_classifier_t_stats = community_classifier_means.apply(partial(ttest_1samp, popmean=0.33))\n",
        "community_classifier_t_stats"
      ],
      "execution_count": 0,
      "outputs": [
        {
          "output_type": "execute_result",
          "data": {
            "text/plain": [
              "linearSVC     (19.605419460029143, 4.573633010829978e-14)\n",
              "SVC          (20.763911531201718, 1.6094064678988662e-14)\n",
              "log l2         (20.78990508195723, 1.573102112886068e-14)\n",
              "log l1         (18.87178024853639, 9.126783811486934e-14)\n",
              "ridge         (19.188752419603443, 6.751519314380495e-14)\n",
              "GNB            (13.971019118412835, 1.90813333689302e-11)\n",
              "dtype: object"
            ]
          },
          "metadata": {
            "tags": []
          },
          "execution_count": 15
        }
      ]
    },
    {
      "cell_type": "markdown",
      "metadata": {
        "id": "v_hkfXe0UspE",
        "colab_type": "text"
      },
      "source": [
        "All models pass the Shapiro-Wilk normality test with non-significant p-values (p>.05), so t-tests are justified. Since all t-statistics calculated for community classifier models were larger than 1, we can conclude that each algorithm we used permits rejection of the null hypothesis challenging hypothesis three. Our work supports the contention that the spatial relations of visual stimuli can be accurately predicted by supervised machine learning systems trained on fMRI recordings of the brains of their observers."
      ]
    },
    {
      "cell_type": "code",
      "metadata": {
        "id": "GMjNRiJfOrm-",
        "colab_type": "code",
        "outputId": "565e9288-a814-46b4-8997-e1f0198e5c7a",
        "colab": {
          "base_uri": "https://localhost:8080/",
          "height": 552
        }
      },
      "source": [
        "# visual comparison of classifiers\n",
        "%matplotlib inline\n",
        "import matplotlib.pyplot as plt\n",
        "\n",
        "x = community_classifier_performances['accuracy']\n",
        "\n",
        "fig = plt.figure()\n",
        "fig.set_figheight(8)\n",
        "fig.set_figwidth(8)\n",
        "\n",
        "ax = fig.add_subplot(111, frameon=False, xticks=[], yticks=[])\n",
        "\n",
        "ax1 = fig.add_subplot(321)\n",
        "ax1.scatter(x, community_classifier_means['linearSVC'])\n",
        "ax1.set_title('linearSVC')\n",
        "\n",
        "ax2 = fig.add_subplot(322)\n",
        "ax2.scatter(x, community_classifier_means['SVC'])\n",
        "ax2.set_title('SVC')\n",
        "\n",
        "ax3 = fig.add_subplot(323)\n",
        "ax3.scatter(x, community_classifier_means['log l2'])\n",
        "ax3.set_title('log l2')\n",
        "\n",
        "ax4 = fig.add_subplot(324)\n",
        "ax4.scatter(x, community_classifier_means['log l1'])\n",
        "ax4.set_title('log l1')\n",
        "\n",
        "ax5 = fig.add_subplot(325)\n",
        "ax5.scatter(x, community_classifier_means['ridge'])\n",
        "ax5.set_title('ridge')\n",
        "\n",
        "ax6 = fig.add_subplot(326)\n",
        "ax6.scatter(x, community_classifier_means['GNB'])\n",
        "ax6.set_title('GNB')\n",
        "\n",
        "ax.set_xlabel(\"Subject Accuracy\", labelpad=30)\n",
        "ax.set_ylabel(\"Classification Accuracy\", labelpad=40)\n",
        "ax.set_title('Classifiability of Community Perception by Behavioral Task Performance', pad=30)\n",
        "plt.tight_layout()"
      ],
      "execution_count": 0,
      "outputs": [
        {
          "output_type": "display_data",
          "data": {
            "image/png": "[encoded data removed]",
            "text/plain": [
              "<Figure size 576x576 with 7 Axes>"
            ]
          },
          "metadata": {
            "tags": [],
            "needs_background": "light"
          }
        }
      ]
    },
    {
      "cell_type": "markdown",
      "metadata": {
        "id": "8ryZ_uNLkJKd",
        "colab_type": "text"
      },
      "source": [
        "None of the models for classifying either target seemed to correlate strongly with subject performance records, so the cover task used in this experiment is not a viable coordinator of the brain's legibility to learning algorithms."
      ]
    },
    {
      "cell_type": "markdown",
      "metadata": {
        "id": "yIqIkwznCpZP",
        "colab_type": "text"
      },
      "source": [
        "### 3.5. Model Optimization"
      ]
    },
    {
      "cell_type": "markdown",
      "metadata": {
        "id": "epkeC4LKK_ia",
        "colab_type": "text"
      },
      "source": [
        "After comparing the results of these untuned models, we went on to optimize their performance by tweaking their hyperparameters. To keep our model optimization process as versatile as our model construction and evaluation processes, we adapted the Classifier class into a similar Tuner class which performed grid search hyperparameter selection by cross validation on all tunable model types."
      ]
    },
    {
      "cell_type": "code",
      "metadata": {
        "id": "1u9hhuhnZCQG",
        "colab_type": "code",
        "colab": {}
      },
      "source": [
        "class Tuner(object):\n",
        "\n",
        "    def __init__(self, subject_number, random_state):\n",
        "        self.subject_number = subject_number\n",
        "        self.subject_data = SubjectData(self.subject_number)\n",
        "        self.random_state = random_state\n",
        "        self.tuner_results = {}\n",
        "\n",
        "    def drop_high_offsets(self):\n",
        "        return self.subject_data.data[self.subject_data.data['offset'] < 1]\n",
        "\n",
        "    def fit(self, target, filtered=False, PCA=False):\n",
        "        # construct feature and target sets\n",
        "        if target == 'community':\n",
        "            if filtered:\n",
        "                features = self.drop_high_offsets().drop(['offset', 'item', 'transition', 'onset'], axis=1)\n",
        "                targets = self.drop_high_offsets()['item'].map(lambda item_label: list(item_label)[0])\n",
        "            else:\n",
        "                features = self.subject_data.data.drop(['offset', 'item', 'transition', 'onset'], axis=1)\n",
        "                targets = self.subject_data.data['item'].map(lambda item_label: list(item_label)[0])\n",
        "        elif target == 'transition':\n",
        "            if filtered:\n",
        "                features = self.drop_high_offsets().drop(['offset', 'item', 'transition', 'onset'], axis=1)\n",
        "                targets = self.drop_high_offsets()['transition']\n",
        "            else:\n",
        "                features = self.subject_data.data.drop(['offset', 'item', 'transition', 'onset'], axis=1)\n",
        "                targets = self.subject_data.data['transition']\n",
        "        else:\n",
        "            raise ValueError(\"Valid target types are 'community' and 'transition'.\")\n",
        "\n",
        "        # establish grid search estimators\n",
        "        from sklearn.model_selection import GridSearchCV\n",
        "        from sklearn.svm import LinearSVC, SVC\n",
        "        from sklearn.linear_model import LogisticRegression, RidgeClassifier\n",
        "\n",
        "        # GNB is omitted for lack of hyperparameters to tune\n",
        "        self.grid_search_estimators = {\n",
        "            'linearSVC': GridSearchCV(\n",
        "                estimator=LinearSVC(max_iter=10000, dual=False),\n",
        "                param_grid={'C': [.001, .01, .1, 1.0, 10.0, 100.0]}, cv=3),\n",
        "            'SVC': GridSearchCV(\n",
        "                estimator=SVC(C=1., kernel=\"linear\"),\n",
        "                param_grid={'C': [.001, .01, .1, 1.0, 10.0, 100.],\n",
        "                            'kernel': ['linear', 'poly', 'rbf', 'sigmoid']}, cv=3),\n",
        "            'log l2': GridSearchCV(\n",
        "                estimator=LogisticRegression(C=1., penalty='l2',\n",
        "                                             random_state=self.random_state, solver='liblinear'),\n",
        "                param_grid={'C': [.001, .01, .1, 1.0, 10.0, 100.0],\n",
        "                            'solver': ['liblinear', 'saga']}, cv=3),\n",
        "            'log l1': GridSearchCV(\n",
        "                estimator=LogisticRegression(C=1., penalty='l1',\n",
        "                                             random_state=self.random_state, solver='liblinear'),\n",
        "                param_grid={'C': [.001, .01, .1, 1.0, 10.0, 100.0],\n",
        "                            'solver': ['liblinear', 'saga']}, cv=3),\n",
        "            'ridge': GridSearchCV(\n",
        "                estimator=RidgeClassifier(alpha=1., solver='lsqr'),\n",
        "                param_grid={'alpha': [.001, .01, .1, 1.0, 10.0, 100.0]}, cv=3)\n",
        "        }\n",
        "        \n",
        "        # standardize features if using PCA\n",
        "        if PCA:            \n",
        "            from sklearn.decomposition import PCA\n",
        "            from sklearn.preprocessing import StandardScaler\n",
        "            # instantiate the PCA object and request ten components\n",
        "            pca = PCA(n_components=10, random_state=self.random_state)\n",
        "            # standardize the features so they are all on the same scale\n",
        "            features_standardized = StandardScaler().fit_transform(features.to_numpy())\n",
        "            # transform the standardized features using the PCA algorithm\n",
        "            features = pca.fit_transform(features_standardized)\n",
        "\n",
        "        for estimator_name, grid_search in self.grid_search_estimators.items():\n",
        "            # check performance of each combination of hyperparameters selected for each algorithm\n",
        "            grid_search.fit(X=features, y=targets)\n",
        "            # store best scores without overfitting and note which parameter values generated them\n",
        "            self.tuner_results[estimator_name] = (grid_search.best_score_, grid_search.best_params_)\n",
        "    \n",
        "    def clear(self):\n",
        "        # wipe the results of any prior fits\n",
        "        self.tuner_results = {}\n",
        "\n",
        "    def report(self, target, filtered=False, PCA=False):\n",
        "        if self.tuner_results:\n",
        "            for classifier_name, results in self.tuner_results.items():\n",
        "                print(classifier_name + \": \\n\\t\" + f'best score={results[0]:.2%}, ' + f'best params: {results[1]}' +\"\\n\")\n",
        "        else:\n",
        "            self.fit(target, filtered, PCA)\n",
        "            self.report(target, filtered, PCA)"
      ],
      "execution_count": 0,
      "outputs": []
    },
    {
      "cell_type": "markdown",
      "metadata": {
        "id": "-DRMQh8TLqLO",
        "colab_type": "text"
      },
      "source": [
        "Returning to our examples of subject 1 for transition classification and subject 19 for community classification, we see the optimized scores and parameter sets for all models used in both cases below as reports of the Tuner class. Hyperparameter tuning for subject 1 under the high offset filtering condition resulted in a three-way tie between the SVC and the two logistic regression models at 87.51% accuracy. The optimal hyperparameters for these models included C values of 0.001 for each of them, the 'poly' kernel for the SVC, the 'saga' solver for the logistic regression model with L2 regularization, and the 'liblinear' solver for the logistic regression model with L1 regularization."
      ]
    },
    {
      "cell_type": "code",
      "metadata": {
        "id": "9zD8XhPEMPif",
        "colab_type": "code",
        "colab": {}
      },
      "source": [
        "sub1tuner = Tuner(subject_number=1, random_state=3000)"
      ],
      "execution_count": 0,
      "outputs": []
    },
    {
      "cell_type": "code",
      "metadata": {
        "id": "kQ3ZX9NUM0PU",
        "colab_type": "code",
        "outputId": "e9e462ec-bb70-4cd4-d753-188ceb33950c",
        "colab": {
          "base_uri": "https://localhost:8080/",
          "height": 1000
        }
      },
      "source": [
        "# implemented using high offset filtering, which was previously found to aid accuracy\n",
        "sub1tuner.report(target='transition', filtered=True)"
      ],
      "execution_count": 0,
      "outputs": [
        {
          "output_type": "stream",
          "text": [
            "/usr/local/lib/python3.6/dist-packages/sklearn/linear_model/_sag.py:330: ConvergenceWarning: The max_iter was reached which means the coef_ did not converge\n",
            "  \"the coef_ did not converge\", ConvergenceWarning)\n",
            "/usr/local/lib/python3.6/dist-packages/sklearn/linear_model/_sag.py:330: ConvergenceWarning: The max_iter was reached which means the coef_ did not converge\n",
            "  \"the coef_ did not converge\", ConvergenceWarning)\n",
            "/usr/local/lib/python3.6/dist-packages/sklearn/linear_model/_sag.py:330: ConvergenceWarning: The max_iter was reached which means the coef_ did not converge\n",
            "  \"the coef_ did not converge\", ConvergenceWarning)\n",
            "/usr/local/lib/python3.6/dist-packages/sklearn/linear_model/_sag.py:330: ConvergenceWarning: The max_iter was reached which means the coef_ did not converge\n",
            "  \"the coef_ did not converge\", ConvergenceWarning)\n",
            "/usr/local/lib/python3.6/dist-packages/sklearn/linear_model/_sag.py:330: ConvergenceWarning: The max_iter was reached which means the coef_ did not converge\n",
            "  \"the coef_ did not converge\", ConvergenceWarning)\n",
            "/usr/local/lib/python3.6/dist-packages/sklearn/linear_model/_sag.py:330: ConvergenceWarning: The max_iter was reached which means the coef_ did not converge\n",
            "  \"the coef_ did not converge\", ConvergenceWarning)\n",
            "/usr/local/lib/python3.6/dist-packages/sklearn/linear_model/_sag.py:330: ConvergenceWarning: The max_iter was reached which means the coef_ did not converge\n",
            "  \"the coef_ did not converge\", ConvergenceWarning)\n",
            "/usr/local/lib/python3.6/dist-packages/sklearn/linear_model/_sag.py:330: ConvergenceWarning: The max_iter was reached which means the coef_ did not converge\n",
            "  \"the coef_ did not converge\", ConvergenceWarning)\n",
            "/usr/local/lib/python3.6/dist-packages/sklearn/linear_model/_sag.py:330: ConvergenceWarning: The max_iter was reached which means the coef_ did not converge\n",
            "  \"the coef_ did not converge\", ConvergenceWarning)\n",
            "/usr/local/lib/python3.6/dist-packages/sklearn/linear_model/_sag.py:330: ConvergenceWarning: The max_iter was reached which means the coef_ did not converge\n",
            "  \"the coef_ did not converge\", ConvergenceWarning)\n",
            "/usr/local/lib/python3.6/dist-packages/sklearn/linear_model/_sag.py:330: ConvergenceWarning: The max_iter was reached which means the coef_ did not converge\n",
            "  \"the coef_ did not converge\", ConvergenceWarning)\n",
            "/usr/local/lib/python3.6/dist-packages/sklearn/linear_model/_sag.py:330: ConvergenceWarning: The max_iter was reached which means the coef_ did not converge\n",
            "  \"the coef_ did not converge\", ConvergenceWarning)\n",
            "/usr/local/lib/python3.6/dist-packages/sklearn/linear_model/_sag.py:330: ConvergenceWarning: The max_iter was reached which means the coef_ did not converge\n",
            "  \"the coef_ did not converge\", ConvergenceWarning)\n",
            "/usr/local/lib/python3.6/dist-packages/sklearn/linear_model/_sag.py:330: ConvergenceWarning: The max_iter was reached which means the coef_ did not converge\n",
            "  \"the coef_ did not converge\", ConvergenceWarning)\n",
            "/usr/local/lib/python3.6/dist-packages/sklearn/linear_model/_sag.py:330: ConvergenceWarning: The max_iter was reached which means the coef_ did not converge\n",
            "  \"the coef_ did not converge\", ConvergenceWarning)\n",
            "/usr/local/lib/python3.6/dist-packages/sklearn/linear_model/_sag.py:330: ConvergenceWarning: The max_iter was reached which means the coef_ did not converge\n",
            "  \"the coef_ did not converge\", ConvergenceWarning)\n",
            "/usr/local/lib/python3.6/dist-packages/sklearn/linear_model/_sag.py:330: ConvergenceWarning: The max_iter was reached which means the coef_ did not converge\n",
            "  \"the coef_ did not converge\", ConvergenceWarning)\n",
            "/usr/local/lib/python3.6/dist-packages/sklearn/linear_model/_sag.py:330: ConvergenceWarning: The max_iter was reached which means the coef_ did not converge\n",
            "  \"the coef_ did not converge\", ConvergenceWarning)\n",
            "/usr/local/lib/python3.6/dist-packages/sklearn/linear_model/_sag.py:330: ConvergenceWarning: The max_iter was reached which means the coef_ did not converge\n",
            "  \"the coef_ did not converge\", ConvergenceWarning)\n",
            "/usr/local/lib/python3.6/dist-packages/sklearn/linear_model/_sag.py:330: ConvergenceWarning: The max_iter was reached which means the coef_ did not converge\n",
            "  \"the coef_ did not converge\", ConvergenceWarning)\n",
            "/usr/local/lib/python3.6/dist-packages/sklearn/linear_model/_sag.py:330: ConvergenceWarning: The max_iter was reached which means the coef_ did not converge\n",
            "  \"the coef_ did not converge\", ConvergenceWarning)\n",
            "/usr/local/lib/python3.6/dist-packages/sklearn/linear_model/_sag.py:330: ConvergenceWarning: The max_iter was reached which means the coef_ did not converge\n",
            "  \"the coef_ did not converge\", ConvergenceWarning)\n",
            "/usr/local/lib/python3.6/dist-packages/sklearn/linear_model/_sag.py:330: ConvergenceWarning: The max_iter was reached which means the coef_ did not converge\n",
            "  \"the coef_ did not converge\", ConvergenceWarning)\n",
            "/usr/local/lib/python3.6/dist-packages/sklearn/linear_model/_sag.py:330: ConvergenceWarning: The max_iter was reached which means the coef_ did not converge\n",
            "  \"the coef_ did not converge\", ConvergenceWarning)\n",
            "/usr/local/lib/python3.6/dist-packages/sklearn/linear_model/_sag.py:330: ConvergenceWarning: The max_iter was reached which means the coef_ did not converge\n",
            "  \"the coef_ did not converge\", ConvergenceWarning)\n",
            "/usr/local/lib/python3.6/dist-packages/sklearn/linear_model/_sag.py:330: ConvergenceWarning: The max_iter was reached which means the coef_ did not converge\n",
            "  \"the coef_ did not converge\", ConvergenceWarning)\n",
            "/usr/local/lib/python3.6/dist-packages/sklearn/linear_model/_sag.py:330: ConvergenceWarning: The max_iter was reached which means the coef_ did not converge\n",
            "  \"the coef_ did not converge\", ConvergenceWarning)\n",
            "/usr/local/lib/python3.6/dist-packages/sklearn/linear_model/_sag.py:330: ConvergenceWarning: The max_iter was reached which means the coef_ did not converge\n",
            "  \"the coef_ did not converge\", ConvergenceWarning)\n",
            "/usr/local/lib/python3.6/dist-packages/sklearn/linear_model/_sag.py:330: ConvergenceWarning: The max_iter was reached which means the coef_ did not converge\n",
            "  \"the coef_ did not converge\", ConvergenceWarning)\n",
            "/usr/local/lib/python3.6/dist-packages/sklearn/linear_model/_sag.py:330: ConvergenceWarning: The max_iter was reached which means the coef_ did not converge\n",
            "  \"the coef_ did not converge\", ConvergenceWarning)\n",
            "/usr/local/lib/python3.6/dist-packages/sklearn/linear_model/_sag.py:330: ConvergenceWarning: The max_iter was reached which means the coef_ did not converge\n",
            "  \"the coef_ did not converge\", ConvergenceWarning)\n",
            "/usr/local/lib/python3.6/dist-packages/sklearn/linear_model/_sag.py:330: ConvergenceWarning: The max_iter was reached which means the coef_ did not converge\n",
            "  \"the coef_ did not converge\", ConvergenceWarning)\n",
            "/usr/local/lib/python3.6/dist-packages/sklearn/linear_model/_sag.py:330: ConvergenceWarning: The max_iter was reached which means the coef_ did not converge\n",
            "  \"the coef_ did not converge\", ConvergenceWarning)\n",
            "/usr/local/lib/python3.6/dist-packages/sklearn/linear_model/_sag.py:330: ConvergenceWarning: The max_iter was reached which means the coef_ did not converge\n",
            "  \"the coef_ did not converge\", ConvergenceWarning)\n",
            "/usr/local/lib/python3.6/dist-packages/sklearn/linear_model/_sag.py:330: ConvergenceWarning: The max_iter was reached which means the coef_ did not converge\n",
            "  \"the coef_ did not converge\", ConvergenceWarning)\n",
            "/usr/local/lib/python3.6/dist-packages/sklearn/linear_model/_sag.py:330: ConvergenceWarning: The max_iter was reached which means the coef_ did not converge\n",
            "  \"the coef_ did not converge\", ConvergenceWarning)\n",
            "/usr/local/lib/python3.6/dist-packages/sklearn/linear_model/_sag.py:330: ConvergenceWarning: The max_iter was reached which means the coef_ did not converge\n",
            "  \"the coef_ did not converge\", ConvergenceWarning)\n"
          ],
          "name": "stderr"
        },
        {
          "output_type": "stream",
          "text": [
            "linearSVC: \n",
            "\tbest score=78.87%, best params: {'C': 0.001}\n",
            "\n",
            "SVC: \n",
            "\tbest score=87.51%, best params: {'C': 0.001, 'kernel': 'poly'}\n",
            "\n",
            "log l2: \n",
            "\tbest score=87.51%, best params: {'C': 0.001, 'solver': 'saga'}\n",
            "\n",
            "log l1: \n",
            "\tbest score=87.51%, best params: {'C': 0.001, 'solver': 'liblinear'}\n",
            "\n",
            "ridge: \n",
            "\tbest score=78.87%, best params: {'alpha': 0.001}\n",
            "\n"
          ],
          "name": "stdout"
        }
      ]
    },
    {
      "cell_type": "markdown",
      "metadata": {
        "id": "qxyjqlgVij66",
        "colab_type": "text"
      },
      "source": [
        "Hyperparameter tuning for subject 19 resulted in surprisingly poorer accuracy for all models. We struggled to interpret the meaning of this; if the performances of the untuned models had been much more significantly different from the probability of random selection, then the diminishment could be interpreted as compensation for overfitting. But in this case, the models all came within a 4-11% difference from the random baseline of one in three. The most accurate tuned community classifying model was the logistic regressor with L1 regularization at a 44.90% success rate for parameters C=0.001 and the 'saga' solver. Interestingly, the solvers favored by the logistic regressors classifying communities were swapped compared to those favored by the logistic regressors classifying transitions (e.g., the logistic regressor with L1 regularization classifying transitions instead performed best with the 'liblinear' solver, whereas that solver was preferred by the one with L2 regularization classifying communities, and the one with L2 regularization classifying transitions preferred the 'saga' solver)."
      ]
    },
    {
      "cell_type": "code",
      "metadata": {
        "id": "Os7PM9X5PgaG",
        "colab_type": "code",
        "colab": {}
      },
      "source": [
        "sub19tuner = Tuner(subject_number=19, random_state=3000)"
      ],
      "execution_count": 0,
      "outputs": []
    },
    {
      "cell_type": "code",
      "metadata": {
        "id": "gaBVwz--PjUQ",
        "colab_type": "code",
        "outputId": "f17492c3-a52c-46f0-df6a-367f763781aa",
        "colab": {
          "base_uri": "https://localhost:8080/",
          "height": 1000
        }
      },
      "source": [
        "sub19tuner.report(target='community')"
      ],
      "execution_count": 0,
      "outputs": [
        {
          "output_type": "stream",
          "text": [
            "/usr/local/lib/python3.6/dist-packages/sklearn/linear_model/_sag.py:330: ConvergenceWarning: The max_iter was reached which means the coef_ did not converge\n",
            "  \"the coef_ did not converge\", ConvergenceWarning)\n",
            "/usr/local/lib/python3.6/dist-packages/sklearn/linear_model/_sag.py:330: ConvergenceWarning: The max_iter was reached which means the coef_ did not converge\n",
            "  \"the coef_ did not converge\", ConvergenceWarning)\n",
            "/usr/local/lib/python3.6/dist-packages/sklearn/linear_model/_sag.py:330: ConvergenceWarning: The max_iter was reached which means the coef_ did not converge\n",
            "  \"the coef_ did not converge\", ConvergenceWarning)\n",
            "/usr/local/lib/python3.6/dist-packages/sklearn/linear_model/_sag.py:330: ConvergenceWarning: The max_iter was reached which means the coef_ did not converge\n",
            "  \"the coef_ did not converge\", ConvergenceWarning)\n",
            "/usr/local/lib/python3.6/dist-packages/sklearn/linear_model/_sag.py:330: ConvergenceWarning: The max_iter was reached which means the coef_ did not converge\n",
            "  \"the coef_ did not converge\", ConvergenceWarning)\n",
            "/usr/local/lib/python3.6/dist-packages/sklearn/linear_model/_sag.py:330: ConvergenceWarning: The max_iter was reached which means the coef_ did not converge\n",
            "  \"the coef_ did not converge\", ConvergenceWarning)\n",
            "/usr/local/lib/python3.6/dist-packages/sklearn/linear_model/_sag.py:330: ConvergenceWarning: The max_iter was reached which means the coef_ did not converge\n",
            "  \"the coef_ did not converge\", ConvergenceWarning)\n",
            "/usr/local/lib/python3.6/dist-packages/sklearn/linear_model/_sag.py:330: ConvergenceWarning: The max_iter was reached which means the coef_ did not converge\n",
            "  \"the coef_ did not converge\", ConvergenceWarning)\n",
            "/usr/local/lib/python3.6/dist-packages/sklearn/linear_model/_sag.py:330: ConvergenceWarning: The max_iter was reached which means the coef_ did not converge\n",
            "  \"the coef_ did not converge\", ConvergenceWarning)\n",
            "/usr/local/lib/python3.6/dist-packages/sklearn/linear_model/_sag.py:330: ConvergenceWarning: The max_iter was reached which means the coef_ did not converge\n",
            "  \"the coef_ did not converge\", ConvergenceWarning)\n",
            "/usr/local/lib/python3.6/dist-packages/sklearn/linear_model/_sag.py:330: ConvergenceWarning: The max_iter was reached which means the coef_ did not converge\n",
            "  \"the coef_ did not converge\", ConvergenceWarning)\n",
            "/usr/local/lib/python3.6/dist-packages/sklearn/linear_model/_sag.py:330: ConvergenceWarning: The max_iter was reached which means the coef_ did not converge\n",
            "  \"the coef_ did not converge\", ConvergenceWarning)\n",
            "/usr/local/lib/python3.6/dist-packages/sklearn/linear_model/_sag.py:330: ConvergenceWarning: The max_iter was reached which means the coef_ did not converge\n",
            "  \"the coef_ did not converge\", ConvergenceWarning)\n",
            "/usr/local/lib/python3.6/dist-packages/sklearn/linear_model/_sag.py:330: ConvergenceWarning: The max_iter was reached which means the coef_ did not converge\n",
            "  \"the coef_ did not converge\", ConvergenceWarning)\n",
            "/usr/local/lib/python3.6/dist-packages/sklearn/linear_model/_sag.py:330: ConvergenceWarning: The max_iter was reached which means the coef_ did not converge\n",
            "  \"the coef_ did not converge\", ConvergenceWarning)\n",
            "/usr/local/lib/python3.6/dist-packages/sklearn/linear_model/_sag.py:330: ConvergenceWarning: The max_iter was reached which means the coef_ did not converge\n",
            "  \"the coef_ did not converge\", ConvergenceWarning)\n",
            "/usr/local/lib/python3.6/dist-packages/sklearn/linear_model/_sag.py:330: ConvergenceWarning: The max_iter was reached which means the coef_ did not converge\n",
            "  \"the coef_ did not converge\", ConvergenceWarning)\n",
            "/usr/local/lib/python3.6/dist-packages/sklearn/linear_model/_sag.py:330: ConvergenceWarning: The max_iter was reached which means the coef_ did not converge\n",
            "  \"the coef_ did not converge\", ConvergenceWarning)\n",
            "/usr/local/lib/python3.6/dist-packages/sklearn/linear_model/_sag.py:330: ConvergenceWarning: The max_iter was reached which means the coef_ did not converge\n",
            "  \"the coef_ did not converge\", ConvergenceWarning)\n",
            "/usr/local/lib/python3.6/dist-packages/sklearn/linear_model/_sag.py:330: ConvergenceWarning: The max_iter was reached which means the coef_ did not converge\n",
            "  \"the coef_ did not converge\", ConvergenceWarning)\n",
            "/usr/local/lib/python3.6/dist-packages/sklearn/linear_model/_sag.py:330: ConvergenceWarning: The max_iter was reached which means the coef_ did not converge\n",
            "  \"the coef_ did not converge\", ConvergenceWarning)\n",
            "/usr/local/lib/python3.6/dist-packages/sklearn/linear_model/_sag.py:330: ConvergenceWarning: The max_iter was reached which means the coef_ did not converge\n",
            "  \"the coef_ did not converge\", ConvergenceWarning)\n",
            "/usr/local/lib/python3.6/dist-packages/sklearn/linear_model/_sag.py:330: ConvergenceWarning: The max_iter was reached which means the coef_ did not converge\n",
            "  \"the coef_ did not converge\", ConvergenceWarning)\n",
            "/usr/local/lib/python3.6/dist-packages/sklearn/linear_model/_sag.py:330: ConvergenceWarning: The max_iter was reached which means the coef_ did not converge\n",
            "  \"the coef_ did not converge\", ConvergenceWarning)\n",
            "/usr/local/lib/python3.6/dist-packages/sklearn/linear_model/_sag.py:330: ConvergenceWarning: The max_iter was reached which means the coef_ did not converge\n",
            "  \"the coef_ did not converge\", ConvergenceWarning)\n",
            "/usr/local/lib/python3.6/dist-packages/sklearn/linear_model/_sag.py:330: ConvergenceWarning: The max_iter was reached which means the coef_ did not converge\n",
            "  \"the coef_ did not converge\", ConvergenceWarning)\n",
            "/usr/local/lib/python3.6/dist-packages/sklearn/linear_model/_sag.py:330: ConvergenceWarning: The max_iter was reached which means the coef_ did not converge\n",
            "  \"the coef_ did not converge\", ConvergenceWarning)\n",
            "/usr/local/lib/python3.6/dist-packages/sklearn/linear_model/_sag.py:330: ConvergenceWarning: The max_iter was reached which means the coef_ did not converge\n",
            "  \"the coef_ did not converge\", ConvergenceWarning)\n",
            "/usr/local/lib/python3.6/dist-packages/sklearn/linear_model/_sag.py:330: ConvergenceWarning: The max_iter was reached which means the coef_ did not converge\n",
            "  \"the coef_ did not converge\", ConvergenceWarning)\n",
            "/usr/local/lib/python3.6/dist-packages/sklearn/linear_model/_sag.py:330: ConvergenceWarning: The max_iter was reached which means the coef_ did not converge\n",
            "  \"the coef_ did not converge\", ConvergenceWarning)\n",
            "/usr/local/lib/python3.6/dist-packages/sklearn/linear_model/_sag.py:330: ConvergenceWarning: The max_iter was reached which means the coef_ did not converge\n",
            "  \"the coef_ did not converge\", ConvergenceWarning)\n",
            "/usr/local/lib/python3.6/dist-packages/sklearn/linear_model/_sag.py:330: ConvergenceWarning: The max_iter was reached which means the coef_ did not converge\n",
            "  \"the coef_ did not converge\", ConvergenceWarning)\n",
            "/usr/local/lib/python3.6/dist-packages/sklearn/linear_model/_sag.py:330: ConvergenceWarning: The max_iter was reached which means the coef_ did not converge\n",
            "  \"the coef_ did not converge\", ConvergenceWarning)\n",
            "/usr/local/lib/python3.6/dist-packages/sklearn/linear_model/_sag.py:330: ConvergenceWarning: The max_iter was reached which means the coef_ did not converge\n",
            "  \"the coef_ did not converge\", ConvergenceWarning)\n",
            "/usr/local/lib/python3.6/dist-packages/sklearn/linear_model/_sag.py:330: ConvergenceWarning: The max_iter was reached which means the coef_ did not converge\n",
            "  \"the coef_ did not converge\", ConvergenceWarning)\n",
            "/usr/local/lib/python3.6/dist-packages/sklearn/linear_model/_sag.py:330: ConvergenceWarning: The max_iter was reached which means the coef_ did not converge\n",
            "  \"the coef_ did not converge\", ConvergenceWarning)\n",
            "/usr/local/lib/python3.6/dist-packages/sklearn/linear_model/_sag.py:330: ConvergenceWarning: The max_iter was reached which means the coef_ did not converge\n",
            "  \"the coef_ did not converge\", ConvergenceWarning)\n"
          ],
          "name": "stderr"
        },
        {
          "output_type": "stream",
          "text": [
            "linearSVC: \n",
            "\tbest score=37.35%, best params: {'C': 0.001}\n",
            "\n",
            "SVC: \n",
            "\tbest score=42.38%, best params: {'C': 0.001, 'kernel': 'poly'}\n",
            "\n",
            "log l2: \n",
            "\tbest score=37.98%, best params: {'C': 0.1, 'solver': 'liblinear'}\n",
            "\n",
            "log l1: \n",
            "\tbest score=44.90%, best params: {'C': 0.001, 'solver': 'saga'}\n",
            "\n",
            "ridge: \n",
            "\tbest score=39.86%, best params: {'alpha': 0.001}\n",
            "\n"
          ],
          "name": "stdout"
        }
      ]
    },
    {
      "cell_type": "markdown",
      "metadata": {
        "id": "HCI_bATvCpZQ",
        "colab_type": "text"
      },
      "source": [
        "### 3.6. Model Testing"
      ]
    },
    {
      "cell_type": "markdown",
      "metadata": {
        "id": "Sf69Os8eSHhR",
        "colab_type": "text"
      },
      "source": [
        "We tested the tuned hyperparameters on two other randomly chosen subjects, 4 and 8, for transition and community classification respectively. Comparing the tuned results to the results of the untuned model we had been using previously revealed the following changes in performance."
      ]
    },
    {
      "cell_type": "code",
      "metadata": {
        "id": "NkNlaFojSHBx",
        "colab_type": "code",
        "outputId": "0cb63b86-ec32-47ce-8b86-9365ccf0eda0",
        "colab": {
          "base_uri": "https://localhost:8080/",
          "height": 277
        }
      },
      "source": [
        "# before tuning\n",
        "sub4model = Classifier(subject_number=4, random_state=3000)\n",
        "# remove models that remain untuned as they are irrelevant to testing for improvement\n",
        "sub4model.estimators = {key:val for key, val in sub4model.estimators.items() if key != 'GNB'}\n",
        "sub4model.report(target='transition', filtered=True)"
      ],
      "execution_count": 0,
      "outputs": [
        {
          "output_type": "stream",
          "text": [
            "linearSVC: \n",
            "\tmean accuracy=72.50%, standard deviation: +/- 12.25%\n",
            "\n",
            "SVC: \n",
            "\tmean accuracy=72.50%, standard deviation: +/- 12.25%\n",
            "\n",
            "log l2: \n",
            "\tmean accuracy=72.50%, standard deviation: +/- 12.25%\n",
            "\n",
            "log l1: \n",
            "\tmean accuracy=67.50%, standard deviation: +/- 16.01%\n",
            "\n",
            "ridge: \n",
            "\tmean accuracy=72.50%, standard deviation: +/- 12.25%\n",
            "\n"
          ],
          "name": "stdout"
        }
      ]
    },
    {
      "cell_type": "code",
      "metadata": {
        "id": "5sV_lHIfl5-z",
        "colab_type": "code",
        "outputId": "f90b6fd1-a16b-40d5-ac08-40e2e834a380",
        "colab": {
          "base_uri": "https://localhost:8080/",
          "height": 277
        }
      },
      "source": [
        "from sklearn.svm import LinearSVC, SVC\n",
        "from sklearn.linear_model import LogisticRegression, RidgeClassifier\n",
        "# after tuning\n",
        "sub4model.clear()\n",
        "sub4model.estimators = {\n",
        "    'linearSVC': LinearSVC(C=0.001, max_iter=10000, dual=False),\n",
        "    'SVC': SVC(C=0.001, kernel='poly'),\n",
        "    'log l2': LogisticRegression(C=0.1, penalty='l2',\n",
        "                                 random_state=sub4model.random_state, solver='liblinear'),\n",
        "    'log l1': LogisticRegression(C=0.001, penalty='l1',\n",
        "                                 random_state=sub4model.random_state, solver='saga'),\n",
        "    'ridge': RidgeClassifier(alpha=0.001, solver='lsqr')\n",
        "}\n",
        "sub4model.report(target='transition', filtered=True)"
      ],
      "execution_count": 0,
      "outputs": [
        {
          "output_type": "stream",
          "text": [
            "linearSVC: \n",
            "\tmean accuracy=72.50%, standard deviation: +/- 12.25%\n",
            "\n",
            "SVC: \n",
            "\tmean accuracy=76.25%, standard deviation: +/- 14.20%\n",
            "\n",
            "log l2: \n",
            "\tmean accuracy=72.50%, standard deviation: +/- 12.25%\n",
            "\n",
            "log l1: \n",
            "\tmean accuracy=76.25%, standard deviation: +/- 14.20%\n",
            "\n",
            "ridge: \n",
            "\tmean accuracy=72.50%, standard deviation: +/- 12.25%\n",
            "\n"
          ],
          "name": "stdout"
        }
      ]
    },
    {
      "cell_type": "markdown",
      "metadata": {
        "id": "xoFD84sdUlxM",
        "colab_type": "text"
      },
      "source": [
        "As indicated by the results of our group-wide optimization, the SVC and logistic regressor (L1) models achieved the highest accuracy of 76.25% +/- 14.20% after tuning for transition classification. Furthermore, the results of optimizing models for subject 8 below show that the logistic regressor (L1) also received the greatest improvement in accuracy for community classification after tuning, though unlike the results for the group as a whole, the most accurate model for subject 8 post-tuning was the ridge classifier at a 65.71% +/- 12.06% success rate. "
      ]
    },
    {
      "cell_type": "code",
      "metadata": {
        "id": "ctJuDD7YnKDa",
        "colab_type": "code",
        "outputId": "35b52c78-3bdb-40e8-b364-3f1726f572db",
        "colab": {
          "base_uri": "https://localhost:8080/",
          "height": 277
        }
      },
      "source": [
        "# before tuning\n",
        "sub8model = Classifier(subject_number=8, random_state=3000)\n",
        "# remove models that remain untuned as they are irrelevant to testing for improvement\n",
        "sub8model.estimators = {key:val for key, val in sub8model.estimators.items() if key != 'GNB'}\n",
        "sub8model.report(target='community')"
      ],
      "execution_count": 0,
      "outputs": [
        {
          "output_type": "stream",
          "text": [
            "linearSVC: \n",
            "\tmean accuracy=65.04%, standard deviation: +/- 12.30%\n",
            "\n",
            "SVC: \n",
            "\tmean accuracy=65.71%, standard deviation: +/- 11.04%\n",
            "\n",
            "log l2: \n",
            "\tmean accuracy=65.04%, standard deviation: +/- 13.22%\n",
            "\n",
            "log l1: \n",
            "\tmean accuracy=63.17%, standard deviation: +/- 10.70%\n",
            "\n",
            "ridge: \n",
            "\tmean accuracy=65.71%, standard deviation: +/- 12.06%\n",
            "\n"
          ],
          "name": "stdout"
        }
      ]
    },
    {
      "cell_type": "code",
      "metadata": {
        "id": "vc6yFy-tnKHE",
        "colab_type": "code",
        "outputId": "71992210-cc2c-4202-e5fc-a1080d62015b",
        "colab": {
          "base_uri": "https://localhost:8080/",
          "height": 277
        }
      },
      "source": [
        "# after tuning\n",
        "sub8model.clear()\n",
        "sub8model.estimators = {\n",
        "    'linearSVC': LinearSVC(C=0.001, max_iter=10000, dual=False),\n",
        "    'SVC': SVC(C=0.001, kernel='poly'),\n",
        "    'log l2': LogisticRegression(C=0.001, penalty='l2',\n",
        "                                 random_state=sub4model.random_state, solver='saga'),\n",
        "    'log l1': LogisticRegression(C=0.001, penalty='l1',\n",
        "                                 random_state=sub4model.random_state, solver='liblinear'),\n",
        "    'ridge': RidgeClassifier(alpha=0.001, solver='lsqr')\n",
        "}\n",
        "sub8model.report(target='community')"
      ],
      "execution_count": 0,
      "outputs": [
        {
          "output_type": "stream",
          "text": [
            "linearSVC: \n",
            "\tmean accuracy=65.04%, standard deviation: +/- 12.30%\n",
            "\n",
            "SVC: \n",
            "\tmean accuracy=56.92%, standard deviation: +/- 12.72%\n",
            "\n",
            "log l2: \n",
            "\tmean accuracy=65.12%, standard deviation: +/- 12.16%\n",
            "\n",
            "log l1: \n",
            "\tmean accuracy=64.42%, standard deviation: +/- 14.32%\n",
            "\n",
            "ridge: \n",
            "\tmean accuracy=65.71%, standard deviation: +/- 12.06%\n",
            "\n"
          ],
          "name": "stdout"
        }
      ]
    },
    {
      "cell_type": "markdown",
      "metadata": {
        "id": "g0ZuMFnECpZS",
        "colab_type": "text"
      },
      "source": [
        "<a id=\"4\"></a>\n",
        "<hr style=\"height:2px; border:none; color:black; background-color:black;\">"
      ]
    },
    {
      "cell_type": "markdown",
      "metadata": {
        "id": "MV3LqJcdCpZT",
        "colab_type": "text"
      },
      "source": [
        "## 4. DISCUSSION\n",
        "\n",
        "Our preliminary processing and analysis of this dataset began with the construction of the SubjectData pipeline, which we used extensively throughout the development of our learning models to load, clean, and organize voxel data into a minimally computationally expensive format. The exploration phase before model building mostly involved navigating voxel data by way of a general linear model (GLM) and constructing contrast map visualizations of a subject's brain and the matrix required to produce its image.\n",
        "\n",
        "We built our Classifier system to repeatably generate and alter predictive models for transition types and community labels using linearSVC, SVC, logistic regression with L2 and L1 regularizations, ridge, and Gaussian Naive Bayes classification models. Both before and after hyperparameter tuning using the Tuner class, we found that the support vector machine and logistic regression based classifiers performed most accurately on both classification tasks. Specifically, the transition classification task is best served by SVC or logistic regression (L2 or L1 regularizations), and the community classification task is best served by logistic regression (L1 regularization). Both hypotheses two and three pertaining to these tasks were supported by the significant accuracy of our models, but the fourth hypothesis could not find ground.\n",
        "\n",
        "Given more time and resources, future analyses could yield more insightful conclusions. For example, more diverse experimental paradigms could be used to explore the idea of neural representations of semantic categoories. While this experiment looked at physical movement of graphics between visual communities, other modalities or semantic categories coould eb evaluated to see if similar ROI's are used to subconsciously parse membership. An example might be using short audio recordings to delineate categorization of narrative. Other versions could be as simple as categorizing tones being played in sequence where community membership depends on pitch. Better understanding of the regions that share roles in this semantic categorization help delineate roles within amodal meaning-making networks. Furthermore, more interesting semantic predictions, like the sadness of narrative or the funniness of a joke as semantic markers might be able to be predicted as we on a rudimentary level were able to predict community membership of simple visual representations. "
      ]
    },
    {
      "cell_type": "markdown",
      "metadata": {
        "id": "eFBetujCCpZT",
        "colab_type": "text"
      },
      "source": [
        "<a id=\"5\"></a>\n",
        "<hr style=\"height:2px; border:none; color:black; background-color:black;\">"
      ]
    }
  ]
}
